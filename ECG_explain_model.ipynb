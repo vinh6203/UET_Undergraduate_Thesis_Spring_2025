{
  "nbformat": 4,
  "nbformat_minor": 0,
  "metadata": {
    "colab": {
      "provenance": [],
      "collapsed_sections": [
        "A5hIcaDRZUNh",
        "-m6uee0nZaJh",
        "iR8ehb2oZoPp",
        "mdbdFP-2fFxU"
      ],
      "toc_visible": true,
      "gpuType": "T4"
    },
    "kernelspec": {
      "name": "python3",
      "display_name": "Python 3"
    },
    "language_info": {
      "name": "python"
    },
    "accelerator": "GPU"
  },
  "cells": [
    {
      "cell_type": "markdown",
      "source": [
        "# **1. Download data and install packages**"
      ],
      "metadata": {
        "id": "A5hIcaDRZUNh"
      }
    },
    {
      "cell_type": "code",
      "execution_count": 1,
      "metadata": {
        "colab": {
          "base_uri": "https://localhost:8080/"
        },
        "id": "i8uYVaV42gOm",
        "outputId": "3fcd9a00-5f36-4a2e-ba1b-d815d58d42d4"
      },
      "outputs": [
        {
          "output_type": "stream",
          "name": "stdout",
          "text": [
            "Downloading...\n",
            "From (original): https://drive.google.com/uc?id=1QEbk-ELdmjEpmFcWyYnOQwd0DRr9eL2G\n",
            "From (redirected): https://drive.google.com/uc?id=1QEbk-ELdmjEpmFcWyYnOQwd0DRr9eL2G&confirm=t&uuid=f3a3ca54-5ce1-461c-84fe-799b63c7a05f\n",
            "To: /content/mit_bih_data.csv\n",
            "100% 765M/765M [00:08<00:00, 88.8MB/s]\n"
          ]
        }
      ],
      "source": [
        "!gdown 1QEbk-ELdmjEpmFcWyYnOQwd0DRr9eL2G"
      ]
    },
    {
      "cell_type": "code",
      "source": [
        "!pip -qq install PyWavelets\n",
        "!pip -qq install pyts"
      ],
      "metadata": {
        "id": "0ozxk3Hn-2_v",
        "colab": {
          "base_uri": "https://localhost:8080/"
        },
        "outputId": "e56a06c7-8201-4954-bfac-34000ea26055"
      },
      "execution_count": 2,
      "outputs": [
        {
          "output_type": "stream",
          "name": "stdout",
          "text": [
            "\u001b[2K   \u001b[90m━━━━━━━━━━━━━━━━━━━━━━━━━━━━━━━━━━━━━━━━\u001b[0m \u001b[32m4.5/4.5 MB\u001b[0m \u001b[31m41.1 MB/s\u001b[0m eta \u001b[36m0:00:00\u001b[0m\n",
            "\u001b[2K   \u001b[90m━━━━━━━━━━━━━━━━━━━━━━━━━━━━━━━━━━━━━━━━\u001b[0m \u001b[32m2.5/2.5 MB\u001b[0m \u001b[31m65.6 MB/s\u001b[0m eta \u001b[36m0:00:00\u001b[0m\n",
            "\u001b[?25h"
          ]
        }
      ]
    },
    {
      "cell_type": "markdown",
      "source": [
        "# **2. Importing libraries and data**"
      ],
      "metadata": {
        "id": "-m6uee0nZaJh"
      }
    },
    {
      "cell_type": "code",
      "source": [
        "import pandas as pd\n",
        "import numpy as np\n",
        "import torch\n",
        "from torch import nn\n",
        "from torch.utils.data import Dataset, DataLoader\n",
        "\n",
        "import pywt # For wavelet transform\n",
        "from pyts.image import MarkovTransitionField # For Markov Transition Field"
      ],
      "metadata": {
        "id": "mYEEkU7ssi81"
      },
      "execution_count": 3,
      "outputs": []
    },
    {
      "cell_type": "code",
      "source": [
        "# First 271 cols contain data, Last col contains class (5 different classes)\n",
        "df = pd.read_csv('./mit_bih_data.csv', header=None)\n",
        "df"
      ],
      "metadata": {
        "id": "aKmd8ih_qy7A",
        "colab": {
          "base_uri": "https://localhost:8080/",
          "height": 0
        },
        "outputId": "1f822c37-2eae-4e8d-b6a5-001f688c03bd"
      },
      "execution_count": 4,
      "outputs": [
        {
          "output_type": "execute_result",
          "data": {
            "text/plain": [
              "             0         1         2         3         4         5         6    \\\n",
              "0       0.588844  0.588654  0.588334  0.587855  0.587206  0.586394  0.585464   \n",
              "1       0.578133  0.577636  0.577092  0.576522  0.575956  0.575431  0.574974   \n",
              "2       0.573414  0.572866  0.572233  0.571576  0.570973  0.570499  0.570210   \n",
              "3       0.577282  0.577243  0.577355  0.577547  0.577735  0.577841  0.577800   \n",
              "4       0.576740  0.576704  0.576705  0.576707  0.576683  0.576618  0.576515   \n",
              "...          ...       ...       ...       ...       ...       ...       ...   \n",
              "112497  0.428762  0.427685  0.426598  0.425531  0.424482  0.423434  0.422382   \n",
              "112498  0.434033  0.434040  0.434087  0.434045  0.433790  0.433248  0.432413   \n",
              "112499  0.433764  0.433542  0.433291  0.432878  0.432264  0.431493  0.430688   \n",
              "112500  0.424160  0.424108  0.423675  0.422888  0.421871  0.420816  0.419940   \n",
              "112501  0.432248  0.430687  0.429040  0.427580  0.426542  0.426059  0.426133   \n",
              "\n",
              "             7         8         9    ...       262       263       264  \\\n",
              "0       0.584492  0.583573  0.582812  ...  0.581103  0.581080  0.581053   \n",
              "1       0.574603  0.574331  0.574159  ...  0.579950  0.579893  0.579956   \n",
              "2       0.570125  0.570227  0.570463  ...  0.585479  0.585485  0.585377   \n",
              "3       0.577572  0.577153  0.576572  ...  0.581164  0.581510  0.581999   \n",
              "4       0.576386  0.576264  0.576167  ...  0.586527  0.586918  0.587336   \n",
              "...          ...       ...       ...  ...       ...       ...       ...   \n",
              "112497  0.421346  0.420375  0.419542  ...  0.426686  0.427223  0.428053   \n",
              "112498  0.431352  0.430186  0.429057  ...  0.428152  0.426986  0.426260   \n",
              "112499  0.430014  0.429629  0.429635  ...  0.420577  0.421564  0.422542   \n",
              "112500  0.419422  0.419369  0.419788  ...  0.424047  0.424681  0.425568   \n",
              "112501  0.426637  0.427344  0.427990  ...  0.436488  0.436461  0.436136   \n",
              "\n",
              "             265       266       267       268       269       270  271  \n",
              "0       0.581026  0.580996  0.580946  0.580866  0.580745  0.580595  0.0  \n",
              "1       0.580128  0.580379  0.580662  0.580920  0.581086  0.581096  0.0  \n",
              "2       0.585168  0.584886  0.584562  0.584228  0.583907  0.583619  0.0  \n",
              "3       0.582616  0.583305  0.583991  0.584573  0.584963  0.585090  0.0  \n",
              "4       0.587758  0.588162  0.588520  0.588796  0.588948  0.588941  0.0  \n",
              "...          ...       ...       ...       ...       ...       ...  ...  \n",
              "112497  0.429110  0.430266  0.431346  0.432168  0.432584  0.432518  0.0  \n",
              "112498  0.426087  0.426461  0.427260  0.428275  0.429270  0.430037  0.0  \n",
              "112499  0.423309  0.423729  0.423750  0.423427  0.422894  0.422332  0.0  \n",
              "112500  0.426517  0.427351  0.427951  0.428280  0.428385  0.428369  0.0  \n",
              "112501  0.435639  0.435146  0.434848  0.434891  0.435345  0.436183  0.0  \n",
              "\n",
              "[112502 rows x 272 columns]"
            ],
            "text/html": [
              "\n",
              "  <div id=\"df-80359d24-96b1-464a-ae66-dcbe7b34fa44\" class=\"colab-df-container\">\n",
              "    <div>\n",
              "<style scoped>\n",
              "    .dataframe tbody tr th:only-of-type {\n",
              "        vertical-align: middle;\n",
              "    }\n",
              "\n",
              "    .dataframe tbody tr th {\n",
              "        vertical-align: top;\n",
              "    }\n",
              "\n",
              "    .dataframe thead th {\n",
              "        text-align: right;\n",
              "    }\n",
              "</style>\n",
              "<table border=\"1\" class=\"dataframe\">\n",
              "  <thead>\n",
              "    <tr style=\"text-align: right;\">\n",
              "      <th></th>\n",
              "      <th>0</th>\n",
              "      <th>1</th>\n",
              "      <th>2</th>\n",
              "      <th>3</th>\n",
              "      <th>4</th>\n",
              "      <th>5</th>\n",
              "      <th>6</th>\n",
              "      <th>7</th>\n",
              "      <th>8</th>\n",
              "      <th>9</th>\n",
              "      <th>...</th>\n",
              "      <th>262</th>\n",
              "      <th>263</th>\n",
              "      <th>264</th>\n",
              "      <th>265</th>\n",
              "      <th>266</th>\n",
              "      <th>267</th>\n",
              "      <th>268</th>\n",
              "      <th>269</th>\n",
              "      <th>270</th>\n",
              "      <th>271</th>\n",
              "    </tr>\n",
              "  </thead>\n",
              "  <tbody>\n",
              "    <tr>\n",
              "      <th>0</th>\n",
              "      <td>0.588844</td>\n",
              "      <td>0.588654</td>\n",
              "      <td>0.588334</td>\n",
              "      <td>0.587855</td>\n",
              "      <td>0.587206</td>\n",
              "      <td>0.586394</td>\n",
              "      <td>0.585464</td>\n",
              "      <td>0.584492</td>\n",
              "      <td>0.583573</td>\n",
              "      <td>0.582812</td>\n",
              "      <td>...</td>\n",
              "      <td>0.581103</td>\n",
              "      <td>0.581080</td>\n",
              "      <td>0.581053</td>\n",
              "      <td>0.581026</td>\n",
              "      <td>0.580996</td>\n",
              "      <td>0.580946</td>\n",
              "      <td>0.580866</td>\n",
              "      <td>0.580745</td>\n",
              "      <td>0.580595</td>\n",
              "      <td>0.0</td>\n",
              "    </tr>\n",
              "    <tr>\n",
              "      <th>1</th>\n",
              "      <td>0.578133</td>\n",
              "      <td>0.577636</td>\n",
              "      <td>0.577092</td>\n",
              "      <td>0.576522</td>\n",
              "      <td>0.575956</td>\n",
              "      <td>0.575431</td>\n",
              "      <td>0.574974</td>\n",
              "      <td>0.574603</td>\n",
              "      <td>0.574331</td>\n",
              "      <td>0.574159</td>\n",
              "      <td>...</td>\n",
              "      <td>0.579950</td>\n",
              "      <td>0.579893</td>\n",
              "      <td>0.579956</td>\n",
              "      <td>0.580128</td>\n",
              "      <td>0.580379</td>\n",
              "      <td>0.580662</td>\n",
              "      <td>0.580920</td>\n",
              "      <td>0.581086</td>\n",
              "      <td>0.581096</td>\n",
              "      <td>0.0</td>\n",
              "    </tr>\n",
              "    <tr>\n",
              "      <th>2</th>\n",
              "      <td>0.573414</td>\n",
              "      <td>0.572866</td>\n",
              "      <td>0.572233</td>\n",
              "      <td>0.571576</td>\n",
              "      <td>0.570973</td>\n",
              "      <td>0.570499</td>\n",
              "      <td>0.570210</td>\n",
              "      <td>0.570125</td>\n",
              "      <td>0.570227</td>\n",
              "      <td>0.570463</td>\n",
              "      <td>...</td>\n",
              "      <td>0.585479</td>\n",
              "      <td>0.585485</td>\n",
              "      <td>0.585377</td>\n",
              "      <td>0.585168</td>\n",
              "      <td>0.584886</td>\n",
              "      <td>0.584562</td>\n",
              "      <td>0.584228</td>\n",
              "      <td>0.583907</td>\n",
              "      <td>0.583619</td>\n",
              "      <td>0.0</td>\n",
              "    </tr>\n",
              "    <tr>\n",
              "      <th>3</th>\n",
              "      <td>0.577282</td>\n",
              "      <td>0.577243</td>\n",
              "      <td>0.577355</td>\n",
              "      <td>0.577547</td>\n",
              "      <td>0.577735</td>\n",
              "      <td>0.577841</td>\n",
              "      <td>0.577800</td>\n",
              "      <td>0.577572</td>\n",
              "      <td>0.577153</td>\n",
              "      <td>0.576572</td>\n",
              "      <td>...</td>\n",
              "      <td>0.581164</td>\n",
              "      <td>0.581510</td>\n",
              "      <td>0.581999</td>\n",
              "      <td>0.582616</td>\n",
              "      <td>0.583305</td>\n",
              "      <td>0.583991</td>\n",
              "      <td>0.584573</td>\n",
              "      <td>0.584963</td>\n",
              "      <td>0.585090</td>\n",
              "      <td>0.0</td>\n",
              "    </tr>\n",
              "    <tr>\n",
              "      <th>4</th>\n",
              "      <td>0.576740</td>\n",
              "      <td>0.576704</td>\n",
              "      <td>0.576705</td>\n",
              "      <td>0.576707</td>\n",
              "      <td>0.576683</td>\n",
              "      <td>0.576618</td>\n",
              "      <td>0.576515</td>\n",
              "      <td>0.576386</td>\n",
              "      <td>0.576264</td>\n",
              "      <td>0.576167</td>\n",
              "      <td>...</td>\n",
              "      <td>0.586527</td>\n",
              "      <td>0.586918</td>\n",
              "      <td>0.587336</td>\n",
              "      <td>0.587758</td>\n",
              "      <td>0.588162</td>\n",
              "      <td>0.588520</td>\n",
              "      <td>0.588796</td>\n",
              "      <td>0.588948</td>\n",
              "      <td>0.588941</td>\n",
              "      <td>0.0</td>\n",
              "    </tr>\n",
              "    <tr>\n",
              "      <th>...</th>\n",
              "      <td>...</td>\n",
              "      <td>...</td>\n",
              "      <td>...</td>\n",
              "      <td>...</td>\n",
              "      <td>...</td>\n",
              "      <td>...</td>\n",
              "      <td>...</td>\n",
              "      <td>...</td>\n",
              "      <td>...</td>\n",
              "      <td>...</td>\n",
              "      <td>...</td>\n",
              "      <td>...</td>\n",
              "      <td>...</td>\n",
              "      <td>...</td>\n",
              "      <td>...</td>\n",
              "      <td>...</td>\n",
              "      <td>...</td>\n",
              "      <td>...</td>\n",
              "      <td>...</td>\n",
              "      <td>...</td>\n",
              "      <td>...</td>\n",
              "    </tr>\n",
              "    <tr>\n",
              "      <th>112497</th>\n",
              "      <td>0.428762</td>\n",
              "      <td>0.427685</td>\n",
              "      <td>0.426598</td>\n",
              "      <td>0.425531</td>\n",
              "      <td>0.424482</td>\n",
              "      <td>0.423434</td>\n",
              "      <td>0.422382</td>\n",
              "      <td>0.421346</td>\n",
              "      <td>0.420375</td>\n",
              "      <td>0.419542</td>\n",
              "      <td>...</td>\n",
              "      <td>0.426686</td>\n",
              "      <td>0.427223</td>\n",
              "      <td>0.428053</td>\n",
              "      <td>0.429110</td>\n",
              "      <td>0.430266</td>\n",
              "      <td>0.431346</td>\n",
              "      <td>0.432168</td>\n",
              "      <td>0.432584</td>\n",
              "      <td>0.432518</td>\n",
              "      <td>0.0</td>\n",
              "    </tr>\n",
              "    <tr>\n",
              "      <th>112498</th>\n",
              "      <td>0.434033</td>\n",
              "      <td>0.434040</td>\n",
              "      <td>0.434087</td>\n",
              "      <td>0.434045</td>\n",
              "      <td>0.433790</td>\n",
              "      <td>0.433248</td>\n",
              "      <td>0.432413</td>\n",
              "      <td>0.431352</td>\n",
              "      <td>0.430186</td>\n",
              "      <td>0.429057</td>\n",
              "      <td>...</td>\n",
              "      <td>0.428152</td>\n",
              "      <td>0.426986</td>\n",
              "      <td>0.426260</td>\n",
              "      <td>0.426087</td>\n",
              "      <td>0.426461</td>\n",
              "      <td>0.427260</td>\n",
              "      <td>0.428275</td>\n",
              "      <td>0.429270</td>\n",
              "      <td>0.430037</td>\n",
              "      <td>0.0</td>\n",
              "    </tr>\n",
              "    <tr>\n",
              "      <th>112499</th>\n",
              "      <td>0.433764</td>\n",
              "      <td>0.433542</td>\n",
              "      <td>0.433291</td>\n",
              "      <td>0.432878</td>\n",
              "      <td>0.432264</td>\n",
              "      <td>0.431493</td>\n",
              "      <td>0.430688</td>\n",
              "      <td>0.430014</td>\n",
              "      <td>0.429629</td>\n",
              "      <td>0.429635</td>\n",
              "      <td>...</td>\n",
              "      <td>0.420577</td>\n",
              "      <td>0.421564</td>\n",
              "      <td>0.422542</td>\n",
              "      <td>0.423309</td>\n",
              "      <td>0.423729</td>\n",
              "      <td>0.423750</td>\n",
              "      <td>0.423427</td>\n",
              "      <td>0.422894</td>\n",
              "      <td>0.422332</td>\n",
              "      <td>0.0</td>\n",
              "    </tr>\n",
              "    <tr>\n",
              "      <th>112500</th>\n",
              "      <td>0.424160</td>\n",
              "      <td>0.424108</td>\n",
              "      <td>0.423675</td>\n",
              "      <td>0.422888</td>\n",
              "      <td>0.421871</td>\n",
              "      <td>0.420816</td>\n",
              "      <td>0.419940</td>\n",
              "      <td>0.419422</td>\n",
              "      <td>0.419369</td>\n",
              "      <td>0.419788</td>\n",
              "      <td>...</td>\n",
              "      <td>0.424047</td>\n",
              "      <td>0.424681</td>\n",
              "      <td>0.425568</td>\n",
              "      <td>0.426517</td>\n",
              "      <td>0.427351</td>\n",
              "      <td>0.427951</td>\n",
              "      <td>0.428280</td>\n",
              "      <td>0.428385</td>\n",
              "      <td>0.428369</td>\n",
              "      <td>0.0</td>\n",
              "    </tr>\n",
              "    <tr>\n",
              "      <th>112501</th>\n",
              "      <td>0.432248</td>\n",
              "      <td>0.430687</td>\n",
              "      <td>0.429040</td>\n",
              "      <td>0.427580</td>\n",
              "      <td>0.426542</td>\n",
              "      <td>0.426059</td>\n",
              "      <td>0.426133</td>\n",
              "      <td>0.426637</td>\n",
              "      <td>0.427344</td>\n",
              "      <td>0.427990</td>\n",
              "      <td>...</td>\n",
              "      <td>0.436488</td>\n",
              "      <td>0.436461</td>\n",
              "      <td>0.436136</td>\n",
              "      <td>0.435639</td>\n",
              "      <td>0.435146</td>\n",
              "      <td>0.434848</td>\n",
              "      <td>0.434891</td>\n",
              "      <td>0.435345</td>\n",
              "      <td>0.436183</td>\n",
              "      <td>0.0</td>\n",
              "    </tr>\n",
              "  </tbody>\n",
              "</table>\n",
              "<p>112502 rows × 272 columns</p>\n",
              "</div>\n",
              "    <div class=\"colab-df-buttons\">\n",
              "\n",
              "  <div class=\"colab-df-container\">\n",
              "    <button class=\"colab-df-convert\" onclick=\"convertToInteractive('df-80359d24-96b1-464a-ae66-dcbe7b34fa44')\"\n",
              "            title=\"Convert this dataframe to an interactive table.\"\n",
              "            style=\"display:none;\">\n",
              "\n",
              "  <svg xmlns=\"http://www.w3.org/2000/svg\" height=\"24px\" viewBox=\"0 -960 960 960\">\n",
              "    <path d=\"M120-120v-720h720v720H120Zm60-500h600v-160H180v160Zm220 220h160v-160H400v160Zm0 220h160v-160H400v160ZM180-400h160v-160H180v160Zm440 0h160v-160H620v160ZM180-180h160v-160H180v160Zm440 0h160v-160H620v160Z\"/>\n",
              "  </svg>\n",
              "    </button>\n",
              "\n",
              "  <style>\n",
              "    .colab-df-container {\n",
              "      display:flex;\n",
              "      gap: 12px;\n",
              "    }\n",
              "\n",
              "    .colab-df-convert {\n",
              "      background-color: #E8F0FE;\n",
              "      border: none;\n",
              "      border-radius: 50%;\n",
              "      cursor: pointer;\n",
              "      display: none;\n",
              "      fill: #1967D2;\n",
              "      height: 32px;\n",
              "      padding: 0 0 0 0;\n",
              "      width: 32px;\n",
              "    }\n",
              "\n",
              "    .colab-df-convert:hover {\n",
              "      background-color: #E2EBFA;\n",
              "      box-shadow: 0px 1px 2px rgba(60, 64, 67, 0.3), 0px 1px 3px 1px rgba(60, 64, 67, 0.15);\n",
              "      fill: #174EA6;\n",
              "    }\n",
              "\n",
              "    .colab-df-buttons div {\n",
              "      margin-bottom: 4px;\n",
              "    }\n",
              "\n",
              "    [theme=dark] .colab-df-convert {\n",
              "      background-color: #3B4455;\n",
              "      fill: #D2E3FC;\n",
              "    }\n",
              "\n",
              "    [theme=dark] .colab-df-convert:hover {\n",
              "      background-color: #434B5C;\n",
              "      box-shadow: 0px 1px 3px 1px rgba(0, 0, 0, 0.15);\n",
              "      filter: drop-shadow(0px 1px 2px rgba(0, 0, 0, 0.3));\n",
              "      fill: #FFFFFF;\n",
              "    }\n",
              "  </style>\n",
              "\n",
              "    <script>\n",
              "      const buttonEl =\n",
              "        document.querySelector('#df-80359d24-96b1-464a-ae66-dcbe7b34fa44 button.colab-df-convert');\n",
              "      buttonEl.style.display =\n",
              "        google.colab.kernel.accessAllowed ? 'block' : 'none';\n",
              "\n",
              "      async function convertToInteractive(key) {\n",
              "        const element = document.querySelector('#df-80359d24-96b1-464a-ae66-dcbe7b34fa44');\n",
              "        const dataTable =\n",
              "          await google.colab.kernel.invokeFunction('convertToInteractive',\n",
              "                                                    [key], {});\n",
              "        if (!dataTable) return;\n",
              "\n",
              "        const docLinkHtml = 'Like what you see? Visit the ' +\n",
              "          '<a target=\"_blank\" href=https://colab.research.google.com/notebooks/data_table.ipynb>data table notebook</a>'\n",
              "          + ' to learn more about interactive tables.';\n",
              "        element.innerHTML = '';\n",
              "        dataTable['output_type'] = 'display_data';\n",
              "        await google.colab.output.renderOutput(dataTable, element);\n",
              "        const docLink = document.createElement('div');\n",
              "        docLink.innerHTML = docLinkHtml;\n",
              "        element.appendChild(docLink);\n",
              "      }\n",
              "    </script>\n",
              "  </div>\n",
              "\n",
              "\n",
              "    <div id=\"df-8fe021ff-1cbc-444b-bd7f-396cd37cf94c\">\n",
              "      <button class=\"colab-df-quickchart\" onclick=\"quickchart('df-8fe021ff-1cbc-444b-bd7f-396cd37cf94c')\"\n",
              "                title=\"Suggest charts\"\n",
              "                style=\"display:none;\">\n",
              "\n",
              "<svg xmlns=\"http://www.w3.org/2000/svg\" height=\"24px\"viewBox=\"0 0 24 24\"\n",
              "     width=\"24px\">\n",
              "    <g>\n",
              "        <path d=\"M19 3H5c-1.1 0-2 .9-2 2v14c0 1.1.9 2 2 2h14c1.1 0 2-.9 2-2V5c0-1.1-.9-2-2-2zM9 17H7v-7h2v7zm4 0h-2V7h2v10zm4 0h-2v-4h2v4z\"/>\n",
              "    </g>\n",
              "</svg>\n",
              "      </button>\n",
              "\n",
              "<style>\n",
              "  .colab-df-quickchart {\n",
              "      --bg-color: #E8F0FE;\n",
              "      --fill-color: #1967D2;\n",
              "      --hover-bg-color: #E2EBFA;\n",
              "      --hover-fill-color: #174EA6;\n",
              "      --disabled-fill-color: #AAA;\n",
              "      --disabled-bg-color: #DDD;\n",
              "  }\n",
              "\n",
              "  [theme=dark] .colab-df-quickchart {\n",
              "      --bg-color: #3B4455;\n",
              "      --fill-color: #D2E3FC;\n",
              "      --hover-bg-color: #434B5C;\n",
              "      --hover-fill-color: #FFFFFF;\n",
              "      --disabled-bg-color: #3B4455;\n",
              "      --disabled-fill-color: #666;\n",
              "  }\n",
              "\n",
              "  .colab-df-quickchart {\n",
              "    background-color: var(--bg-color);\n",
              "    border: none;\n",
              "    border-radius: 50%;\n",
              "    cursor: pointer;\n",
              "    display: none;\n",
              "    fill: var(--fill-color);\n",
              "    height: 32px;\n",
              "    padding: 0;\n",
              "    width: 32px;\n",
              "  }\n",
              "\n",
              "  .colab-df-quickchart:hover {\n",
              "    background-color: var(--hover-bg-color);\n",
              "    box-shadow: 0 1px 2px rgba(60, 64, 67, 0.3), 0 1px 3px 1px rgba(60, 64, 67, 0.15);\n",
              "    fill: var(--button-hover-fill-color);\n",
              "  }\n",
              "\n",
              "  .colab-df-quickchart-complete:disabled,\n",
              "  .colab-df-quickchart-complete:disabled:hover {\n",
              "    background-color: var(--disabled-bg-color);\n",
              "    fill: var(--disabled-fill-color);\n",
              "    box-shadow: none;\n",
              "  }\n",
              "\n",
              "  .colab-df-spinner {\n",
              "    border: 2px solid var(--fill-color);\n",
              "    border-color: transparent;\n",
              "    border-bottom-color: var(--fill-color);\n",
              "    animation:\n",
              "      spin 1s steps(1) infinite;\n",
              "  }\n",
              "\n",
              "  @keyframes spin {\n",
              "    0% {\n",
              "      border-color: transparent;\n",
              "      border-bottom-color: var(--fill-color);\n",
              "      border-left-color: var(--fill-color);\n",
              "    }\n",
              "    20% {\n",
              "      border-color: transparent;\n",
              "      border-left-color: var(--fill-color);\n",
              "      border-top-color: var(--fill-color);\n",
              "    }\n",
              "    30% {\n",
              "      border-color: transparent;\n",
              "      border-left-color: var(--fill-color);\n",
              "      border-top-color: var(--fill-color);\n",
              "      border-right-color: var(--fill-color);\n",
              "    }\n",
              "    40% {\n",
              "      border-color: transparent;\n",
              "      border-right-color: var(--fill-color);\n",
              "      border-top-color: var(--fill-color);\n",
              "    }\n",
              "    60% {\n",
              "      border-color: transparent;\n",
              "      border-right-color: var(--fill-color);\n",
              "    }\n",
              "    80% {\n",
              "      border-color: transparent;\n",
              "      border-right-color: var(--fill-color);\n",
              "      border-bottom-color: var(--fill-color);\n",
              "    }\n",
              "    90% {\n",
              "      border-color: transparent;\n",
              "      border-bottom-color: var(--fill-color);\n",
              "    }\n",
              "  }\n",
              "</style>\n",
              "\n",
              "      <script>\n",
              "        async function quickchart(key) {\n",
              "          const quickchartButtonEl =\n",
              "            document.querySelector('#' + key + ' button');\n",
              "          quickchartButtonEl.disabled = true;  // To prevent multiple clicks.\n",
              "          quickchartButtonEl.classList.add('colab-df-spinner');\n",
              "          try {\n",
              "            const charts = await google.colab.kernel.invokeFunction(\n",
              "                'suggestCharts', [key], {});\n",
              "          } catch (error) {\n",
              "            console.error('Error during call to suggestCharts:', error);\n",
              "          }\n",
              "          quickchartButtonEl.classList.remove('colab-df-spinner');\n",
              "          quickchartButtonEl.classList.add('colab-df-quickchart-complete');\n",
              "        }\n",
              "        (() => {\n",
              "          let quickchartButtonEl =\n",
              "            document.querySelector('#df-8fe021ff-1cbc-444b-bd7f-396cd37cf94c button');\n",
              "          quickchartButtonEl.style.display =\n",
              "            google.colab.kernel.accessAllowed ? 'block' : 'none';\n",
              "        })();\n",
              "      </script>\n",
              "    </div>\n",
              "\n",
              "  <div id=\"id_4ea29229-112a-4747-afc6-8f74eb216ac9\">\n",
              "    <style>\n",
              "      .colab-df-generate {\n",
              "        background-color: #E8F0FE;\n",
              "        border: none;\n",
              "        border-radius: 50%;\n",
              "        cursor: pointer;\n",
              "        display: none;\n",
              "        fill: #1967D2;\n",
              "        height: 32px;\n",
              "        padding: 0 0 0 0;\n",
              "        width: 32px;\n",
              "      }\n",
              "\n",
              "      .colab-df-generate:hover {\n",
              "        background-color: #E2EBFA;\n",
              "        box-shadow: 0px 1px 2px rgba(60, 64, 67, 0.3), 0px 1px 3px 1px rgba(60, 64, 67, 0.15);\n",
              "        fill: #174EA6;\n",
              "      }\n",
              "\n",
              "      [theme=dark] .colab-df-generate {\n",
              "        background-color: #3B4455;\n",
              "        fill: #D2E3FC;\n",
              "      }\n",
              "\n",
              "      [theme=dark] .colab-df-generate:hover {\n",
              "        background-color: #434B5C;\n",
              "        box-shadow: 0px 1px 3px 1px rgba(0, 0, 0, 0.15);\n",
              "        filter: drop-shadow(0px 1px 2px rgba(0, 0, 0, 0.3));\n",
              "        fill: #FFFFFF;\n",
              "      }\n",
              "    </style>\n",
              "    <button class=\"colab-df-generate\" onclick=\"generateWithVariable('df')\"\n",
              "            title=\"Generate code using this dataframe.\"\n",
              "            style=\"display:none;\">\n",
              "\n",
              "  <svg xmlns=\"http://www.w3.org/2000/svg\" height=\"24px\"viewBox=\"0 0 24 24\"\n",
              "       width=\"24px\">\n",
              "    <path d=\"M7,19H8.4L18.45,9,17,7.55,7,17.6ZM5,21V16.75L18.45,3.32a2,2,0,0,1,2.83,0l1.4,1.43a1.91,1.91,0,0,1,.58,1.4,1.91,1.91,0,0,1-.58,1.4L9.25,21ZM18.45,9,17,7.55Zm-12,3A5.31,5.31,0,0,0,4.9,8.1,5.31,5.31,0,0,0,1,6.5,5.31,5.31,0,0,0,4.9,4.9,5.31,5.31,0,0,0,6.5,1,5.31,5.31,0,0,0,8.1,4.9,5.31,5.31,0,0,0,12,6.5,5.46,5.46,0,0,0,6.5,12Z\"/>\n",
              "  </svg>\n",
              "    </button>\n",
              "    <script>\n",
              "      (() => {\n",
              "      const buttonEl =\n",
              "        document.querySelector('#id_4ea29229-112a-4747-afc6-8f74eb216ac9 button.colab-df-generate');\n",
              "      buttonEl.style.display =\n",
              "        google.colab.kernel.accessAllowed ? 'block' : 'none';\n",
              "\n",
              "      buttonEl.onclick = () => {\n",
              "        google.colab.notebook.generateWithVariable('df');\n",
              "      }\n",
              "      })();\n",
              "    </script>\n",
              "  </div>\n",
              "\n",
              "    </div>\n",
              "  </div>\n"
            ],
            "application/vnd.google.colaboratory.intrinsic+json": {
              "type": "dataframe",
              "variable_name": "df"
            }
          },
          "metadata": {},
          "execution_count": 4
        }
      ]
    },
    {
      "cell_type": "markdown",
      "source": [
        "# **3. Data preprocessing and Train test split**"
      ],
      "metadata": {
        "id": "iR8ehb2oZoPp"
      }
    },
    {
      "cell_type": "code",
      "source": [
        "from sklearn.model_selection import train_test_split\n",
        "\n",
        "X, y = df.to_numpy()[:,:-1], df.to_numpy()[:,-1]\n",
        "X_train, X_test, y_train, y_test = train_test_split(X, y, test_size=0.20, random_state=42)\n",
        "\n",
        "def print_class_distribution(y, name):\n",
        "    unique_classes, class_counts = np.unique(y, return_counts=True)\n",
        "    print(f\"Class distribution for {name}:\")\n",
        "    for class_label, count in zip(unique_classes, class_counts):\n",
        "        print(f\"Class {class_label}: {count} samples ({count/len(y)*100:.2f}%)\")\n",
        "\n",
        "print_class_distribution(y_train, \"y_train\")\n",
        "print()\n",
        "print_class_distribution(y_test, \"y_test\")\n"
      ],
      "metadata": {
        "id": "y1xVLP6Krbvh",
        "colab": {
          "base_uri": "https://localhost:8080/"
        },
        "outputId": "2b4d7b54-cfcd-4f27-c5d0-84b7ac458491"
      },
      "execution_count": 27,
      "outputs": [
        {
          "output_type": "stream",
          "name": "stdout",
          "text": [
            "Class distribution for y_train:\n",
            "Class 0.0: 72400 samples (80.44%)\n",
            "Class 1.0: 2251 samples (2.50%)\n",
            "Class 2.0: 5787 samples (6.43%)\n",
            "Class 3.0: 623 samples (0.69%)\n",
            "Class 4.0: 8940 samples (9.93%)\n",
            "\n",
            "Class distribution for y_test:\n",
            "Class 0.0: 18149 samples (80.66%)\n",
            "Class 1.0: 528 samples (2.35%)\n",
            "Class 2.0: 1447 samples (6.43%)\n",
            "Class 3.0: 179 samples (0.80%)\n",
            "Class 4.0: 2198 samples (9.77%)\n"
          ]
        }
      ]
    },
    {
      "cell_type": "code",
      "source": [
        "class MLDataset(Dataset):\n",
        "    def __init__(self, is_train=True):\n",
        "      if is_train:\n",
        "        self.data = X_train\n",
        "        self.label = y_train\n",
        "      else:\n",
        "        self.data = X_test\n",
        "        self.label = y_test\n",
        "\n",
        "      ### Wavelet transform\n",
        "      self.wavelet = \"cmor2.5-1.5\"\n",
        "      self.fs = 360  # Sampling frequency from the database\n",
        "\n",
        "      self.downsampling_data = [sample[::6] for sample in self.data] # Downsampling to 6 times to speed up processing\n",
        "      self.widths = np.arange(1, self.fs/6+1)[::-1]  # Width for the wavelet transform\n",
        "      self.wavelet_data = [np.abs(pywt.cwt(sample, self.widths, self.wavelet)[0]) for sample in self.downsampling_data]\n",
        "\n",
        "      ### Markov Transition field\n",
        "      self.mtf = MarkovTransitionField(n_bins=16)  # Use 16 different states (bins) to for markov transtion counting\n",
        "      self.markov_data = [self.mtf.fit_transform(sample.reshape(1, -1))[0] for sample in self.downsampling_data]\n",
        "\n",
        "    def __getitem__(self, index):\n",
        "      ### Time data\n",
        "      time_record_tensor = torch.from_numpy(self.data[index]).float()\n",
        "\n",
        "      ### Wavelet\n",
        "      # Expand dims 0 to consider it as a gray image\n",
        "      wavelet_tensor = torch.from_numpy(np.expand_dims(self.wavelet_data[index], axis=0)).float()\n",
        "\n",
        "      ### Markov Transition field\n",
        "      # Expand dims 0 to consider it as a gray image\n",
        "      markov_tensor = torch.from_numpy(np.expand_dims(self.markov_data[index], axis=0)).float()\n",
        "\n",
        "      ### Label processing\n",
        "      # One hot encoding for label\n",
        "      label_tensor = torch.zeros(5).float() # Initialize a tensor of zeros with length 5 (num_classes=5)\n",
        "      label_tensor[int(self.label[index])] = 1.0 # Set the element at the index of self.label[index] to 1\n",
        "\n",
        "      return time_record_tensor, wavelet_tensor, markov_tensor, label_tensor\n",
        "\n",
        "\n",
        "    def __len__(self):\n",
        "      return len(self.data)"
      ],
      "metadata": {
        "id": "yMHJzICXsdkm"
      },
      "execution_count": 6,
      "outputs": []
    },
    {
      "cell_type": "code",
      "source": [
        "train_set = MLDataset(is_train=True)\n",
        "\n",
        "BATCH_SIZE = 256\n",
        "train_dataloader = DataLoader(train_set, batch_size=BATCH_SIZE)"
      ],
      "metadata": {
        "id": "8I8vudUDtQRO",
        "colab": {
          "base_uri": "https://localhost:8080/"
        },
        "outputId": "0d3c4c78-238a-4529-ba66-3dd5d2c65f20"
      },
      "execution_count": 7,
      "outputs": [
        {
          "output_type": "stream",
          "name": "stderr",
          "text": [
            "/usr/local/lib/python3.11/dist-packages/pyts/preprocessing/discretizer.py:168: UserWarning: Some quantiles are equal. The number of bins will be smaller for sample [0]. Consider decreasing the number of bins or removing these samples.\n",
            "  warn(\"Some quantiles are equal. The number of bins will \"\n",
            "/usr/local/lib/python3.11/dist-packages/pyts/preprocessing/discretizer.py:168: UserWarning: Some quantiles are equal. The number of bins will be smaller for sample [0]. Consider decreasing the number of bins or removing these samples.\n",
            "  warn(\"Some quantiles are equal. The number of bins will \"\n",
            "/usr/local/lib/python3.11/dist-packages/pyts/preprocessing/discretizer.py:168: UserWarning: Some quantiles are equal. The number of bins will be smaller for sample [0]. Consider decreasing the number of bins or removing these samples.\n",
            "  warn(\"Some quantiles are equal. The number of bins will \"\n",
            "/usr/local/lib/python3.11/dist-packages/pyts/preprocessing/discretizer.py:168: UserWarning: Some quantiles are equal. The number of bins will be smaller for sample [0]. Consider decreasing the number of bins or removing these samples.\n",
            "  warn(\"Some quantiles are equal. The number of bins will \"\n"
          ]
        }
      ]
    },
    {
      "cell_type": "code",
      "source": [
        "# Only run this once when finish training\n",
        "test_set = MLDataset(is_train=False)\n",
        "\n",
        "BATCH_SIZE = 256\n",
        "test_dataloader = DataLoader(test_set, batch_size=BATCH_SIZE)"
      ],
      "metadata": {
        "id": "ypzW72Pef6BU",
        "colab": {
          "base_uri": "https://localhost:8080/"
        },
        "outputId": "0f572584-f6a7-4fbf-beee-360037d432db"
      },
      "execution_count": 8,
      "outputs": [
        {
          "output_type": "stream",
          "name": "stderr",
          "text": [
            "/usr/local/lib/python3.11/dist-packages/pyts/preprocessing/discretizer.py:168: UserWarning: Some quantiles are equal. The number of bins will be smaller for sample [0]. Consider decreasing the number of bins or removing these samples.\n",
            "  warn(\"Some quantiles are equal. The number of bins will \"\n",
            "/usr/local/lib/python3.11/dist-packages/pyts/preprocessing/discretizer.py:168: UserWarning: Some quantiles are equal. The number of bins will be smaller for sample [0]. Consider decreasing the number of bins or removing these samples.\n",
            "  warn(\"Some quantiles are equal. The number of bins will \"\n"
          ]
        }
      ]
    },
    {
      "cell_type": "code",
      "source": [
        "# Remove from RAM and GPU memory\n",
        "# del train_set, train_dataloader\n",
        "# del test_set, test_dataloader"
      ],
      "metadata": {
        "id": "f670SLW4wmER"
      },
      "execution_count": 9,
      "outputs": []
    },
    {
      "cell_type": "code",
      "source": [
        "import matplotlib.pyplot as plt\n",
        "\n",
        "for batch_time_record_tensor, batch_wavelet_tensor, batch_markov_tensor, batch_label_tensor in train_dataloader:\n",
        "    index = np.random.randint(1, 64)\n",
        "\n",
        "    print(batch_label_tensor[index])\n",
        "    plt.plot(batch_time_record_tensor[index])\n",
        "    plt.title(\"QRS complex segment\")\n",
        "    plt.xlabel(\"Sample\")\n",
        "    plt.ylabel(\"Magnitude\")\n",
        "    plt.show()\n",
        "\n",
        "    plt.imshow(batch_wavelet_tensor[index][0,:,:])\n",
        "    plt.title(\"CWT of the segment\")\n",
        "    plt.xlabel(\"Shifting\")\n",
        "    plt.ylabel(\"Scaling\")\n",
        "    plt.show()\n",
        "\n",
        "    plt.imshow(batch_markov_tensor[index][0,:,:])\n",
        "    plt.title(\"MTF of the segment\")\n",
        "    plt.show()\n",
        "    break"
      ],
      "metadata": {
        "colab": {
          "base_uri": "https://localhost:8080/",
          "height": 1000
        },
        "id": "wHRIP7lLtW-M",
        "outputId": "3eb787f9-25f8-462c-ed40-37358dafd0f1"
      },
      "execution_count": 10,
      "outputs": [
        {
          "output_type": "stream",
          "name": "stdout",
          "text": [
            "tensor([1., 0., 0., 0., 0.])\n"
          ]
        },
        {
          "output_type": "display_data",
          "data": {
            "text/plain": [
              "<Figure size 640x480 with 1 Axes>"
            ],
            "image/png": "[encoded data removed]"
          },
          "metadata": {}
        },
        {
          "output_type": "display_data",
          "data": {
            "text/plain": [
              "<Figure size 640x480 with 1 Axes>"
            ],
            "image/png": "[encoded data removed]"
          },
          "metadata": {}
        },
        {
          "output_type": "display_data",
          "data": {
            "text/plain": [
              "<Figure size 640x480 with 1 Axes>"
            ],
            "image/png": "[encoded data removed]"
          },
          "metadata": {}
        }
      ]
    },
    {
      "cell_type": "code",
      "source": [
        "# Dimension check, batch_size = 64, data_length = 271, downsampling_data_length = 91\n",
        "for batch_time_record_tensor, batch_wavelet_tensor, batch_markov_tensor, batch_label_tensor in train_dataloader:\n",
        "    print(batch_time_record_tensor.shape)\n",
        "    print(batch_wavelet_tensor.shape)\n",
        "    print(batch_markov_tensor.shape)\n",
        "    print(batch_label_tensor.shape)\n",
        "    break"
      ],
      "metadata": {
        "colab": {
          "base_uri": "https://localhost:8080/"
        },
        "id": "TzOgHNAKOeQG",
        "outputId": "d821bdfa-b04c-4e2d-ce65-e4040f48f72a"
      },
      "execution_count": 11,
      "outputs": [
        {
          "output_type": "stream",
          "name": "stdout",
          "text": [
            "torch.Size([256, 271])\n",
            "torch.Size([256, 1, 60, 46])\n",
            "torch.Size([256, 1, 46, 46])\n",
            "torch.Size([256, 5])\n"
          ]
        }
      ]
    },
    {
      "cell_type": "markdown",
      "source": [
        "# **4. Proposed Learning Model**"
      ],
      "metadata": {
        "id": "fr74EDIpZ-BI"
      }
    },
    {
      "cell_type": "code",
      "source": [
        "# Testing for gpu\n",
        "device = torch.device('cuda:0')"
      ],
      "metadata": {
        "id": "osdDcNmgvsTb"
      },
      "execution_count": 12,
      "outputs": []
    },
    {
      "cell_type": "code",
      "source": [
        "def conv_block(num_filter):\n",
        "    dropout_rate = 0.1\n",
        "    return nn.Sequential(\n",
        "      nn.Conv2d(in_channels=num_filter, out_channels=num_filter, kernel_size=(1, 1), stride=1, padding=(0, 0)),\n",
        "      nn.BatchNorm2d(num_features=num_filter),\n",
        "      nn.Dropout(dropout_rate),\n",
        "      nn.ReLU(),\n",
        "      nn.Conv2d(in_channels=num_filter, out_channels=num_filter, kernel_size=(3, 3), stride=1, padding=(1, 1)),\n",
        "      nn.BatchNorm2d(num_features=num_filter),\n",
        "      nn.Dropout(dropout_rate),\n",
        "      nn.ReLU(),\n",
        "      nn.Conv2d(in_channels=num_filter, out_channels=num_filter*4, kernel_size=(1, 1), stride=1, padding=(0, 0)),\n",
        "      nn.BatchNorm2d(num_features=num_filter*4),\n",
        "      nn.Dropout(dropout_rate),\n",
        "      nn.ReLU(),\n",
        "    )\n",
        "\n",
        "class ProposedModel(nn.Module):\n",
        "  def __init__(self, num_classes):\n",
        "    super(ProposedModel, self).__init__()\n",
        "\n",
        "    \"\"\"\n",
        "    Time record flow\n",
        "    \"\"\"\n",
        "    self.fully_connected0 = nn.Sequential(\n",
        "      nn.Linear(in_features=271, out_features=4096),\n",
        "      nn.BatchNorm1d(num_features=4096),\n",
        "      nn.Dropout(0.1),\n",
        "      nn.ReLU(),\n",
        "      nn.Linear(in_features=4096, out_features=4096),\n",
        "      nn.BatchNorm1d(num_features=4096),\n",
        "      nn.Dropout(0.1),\n",
        "      nn.ReLU(),\n",
        "      nn.Linear(in_features=4096, out_features=num_classes),  # num_classes = 5\n",
        "      nn.BatchNorm1d(num_features=num_classes),\n",
        "      nn.Dropout(0.1),\n",
        "      nn.Softmax(dim=1),\n",
        "    )\n",
        "    \"\"\"\n",
        "    End of Time record flow\n",
        "    \"\"\"\n",
        "\n",
        "\n",
        "    \"\"\"\n",
        "    Wavelet transform flow\n",
        "    \"\"\"\n",
        "    self.block0 = nn.Sequential(\n",
        "      nn.Conv2d(in_channels=1, out_channels=64, kernel_size=(7, 7), stride=2, padding=(3, 3)),\n",
        "      nn.BatchNorm2d(num_features=64),\n",
        "      nn.MaxPool2d(kernel_size=(3, 3), stride=2, padding=(1, 1)),\n",
        "    )\n",
        "\n",
        "    self.block1_filter_size = 64\n",
        "    self.block1 = conv_block(num_filter=self.block1_filter_size)\n",
        "    self.block1_projection = nn.Conv2d(in_channels=self.block1_filter_size,\n",
        "                                       out_channels=self.block1_filter_size*4,\n",
        "                                       kernel_size=(1, 1), stride=1, padding=(0, 0))\n",
        "\n",
        "    self.block2_filter_size = 256\n",
        "    self.block2_downsampling = nn.Conv2d(in_channels=self.block2_filter_size,\n",
        "                                         out_channels=self.block2_filter_size,\n",
        "                                         kernel_size=(1, 1), stride=2, padding=(0, 0))\n",
        "\n",
        "    self.block2 = conv_block(num_filter=self.block2_filter_size)\n",
        "    self.block2_projection = nn.Conv2d(in_channels=self.block2_filter_size,\n",
        "                                       out_channels=self.block2_filter_size*4,\n",
        "                                       kernel_size=(1, 1), stride=2, padding=(0, 0))\n",
        "\n",
        "    self.fully_connected1 = nn.Sequential(\n",
        "      nn.Flatten(),\n",
        "      nn.Linear(in_features=1024*(8*6), out_features=2048),\n",
        "      nn.BatchNorm1d(num_features=2048),\n",
        "      nn.Dropout(0.1),\n",
        "      nn.ReLU(),\n",
        "      nn.Linear(in_features=2048, out_features=2048),\n",
        "      nn.BatchNorm1d(num_features=2048),\n",
        "      nn.Dropout(0.1),\n",
        "      nn.ReLU(),\n",
        "      nn.Linear(in_features=2048, out_features=num_classes),  # num_classes = 5\n",
        "      nn.BatchNorm1d(num_features=num_classes),\n",
        "      nn.Dropout(0.1),\n",
        "      nn.Softmax(dim=1),\n",
        "    )\n",
        "    \"\"\"\n",
        "    End of Wavelet transform flow\n",
        "    \"\"\"\n",
        "#\n",
        "#\n",
        "    # \"\"\"\n",
        "    # Markov Transition Field flow\n",
        "    # \"\"\"\n",
        "    self.block3 = nn.Sequential(\n",
        "      nn.Conv2d(in_channels=1, out_channels=64, kernel_size=(7, 7), stride=2, padding=(3, 3)),\n",
        "      nn.BatchNorm2d(num_features=64),\n",
        "      nn.MaxPool2d(kernel_size=(3, 3), stride=2, padding=(1, 1)),\n",
        "    )\n",
        "\n",
        "    self.block4_filter_size = 64\n",
        "    self.block4 = conv_block(num_filter=self.block4_filter_size)\n",
        "    self.block4_projection = nn.Conv2d(in_channels=self.block4_filter_size,\n",
        "                                       out_channels=self.block4_filter_size*4,\n",
        "                                       kernel_size=(1, 1), stride=1, padding=(0, 0))\n",
        "\n",
        "    self.block5_filter_size = 256\n",
        "    self.block5_downsampling = nn.Conv2d(in_channels=self.block5_filter_size,\n",
        "                                         out_channels=self.block5_filter_size,\n",
        "                                         kernel_size=(1, 1), stride=2, padding=(0, 0))\n",
        "    self.block5 = conv_block(num_filter=self.block5_filter_size)\n",
        "    self.block5_projection = nn.Conv2d(in_channels=self.block5_filter_size,\n",
        "                                       out_channels=self.block5_filter_size*4,\n",
        "                                       kernel_size=(1, 1), stride=2, padding=(0, 0))\n",
        "\n",
        "    self.fully_connected2 = nn.Sequential(\n",
        "      nn.Flatten(),\n",
        "      nn.Linear(in_features=1024*(6*6), out_features=2048),\n",
        "      nn.BatchNorm1d(num_features=2048),\n",
        "      nn.Dropout(0.1),\n",
        "      nn.ReLU(),\n",
        "      nn.Linear(in_features=2048, out_features=2048),\n",
        "      nn.BatchNorm1d(num_features=2048),\n",
        "      nn.Dropout(0.1),\n",
        "      nn.ReLU(),\n",
        "      nn.Linear(in_features=2048, out_features=num_classes),  # num_classes = 5\n",
        "      nn.BatchNorm1d(num_features=num_classes),\n",
        "      nn.Dropout(0.1),\n",
        "      nn.Softmax(dim=1),\n",
        "    )\n",
        "    # \"\"\"\n",
        "    # End of Markov Transition Field flow\n",
        "    # \"\"\"\n",
        "\n",
        "  def forward(self, time_record_tensor, wavelet_tensor, markov_tensor):\n",
        "  # def forward(self, wavelet_tensor):\n",
        "    \"\"\"\n",
        "    Dimension reminder\n",
        "    [64, 271]: batch_time_record_tensor_shape\n",
        "    [64, 1, 120, 91]: batch_wavelet_tensor_shape\n",
        "    [64, 1, 91, 91]: batch_markov_tensor_shape\n",
        "    [64, 5]: batch_label_tensor_shape\n",
        "    \"\"\"\n",
        "\n",
        "    \"\"\"\n",
        "    Time record flow\n",
        "    \"\"\"\n",
        "    time_record_flow = self.fully_connected0(time_record_tensor)\n",
        "    \"\"\"\n",
        "    End of Time record flow\n",
        "    \"\"\"\n",
        "\n",
        "\n",
        "    \"\"\"\n",
        "    Wavelet flow\n",
        "    \"\"\"\n",
        "    wavelet_flow = self.block0(wavelet_tensor)\n",
        "#\n",
        "    # # Block 1\n",
        "    identity = wavelet_flow\n",
        "    wavelet_flow = self.block1(wavelet_flow)\n",
        "    wavelet_flow = wavelet_flow + self.block1_projection(identity)\n",
        "#\n",
        "    # # Block 2\n",
        "    identity = wavelet_flow\n",
        "    wavelet_flow = self.block2_downsampling(wavelet_flow)\n",
        "    wavelet_flow = self.block2(wavelet_flow)\n",
        "    wavelet_flow = wavelet_flow + self.block2_projection(identity)\n",
        "\n",
        "    wavelet_flow = self.fully_connected1(wavelet_flow)\n",
        "    \"\"\"\n",
        "    End of Wavelet flow\n",
        "    \"\"\"\n",
        "#\n",
        "#\n",
        "    # \"\"\"\n",
        "    # Markov Transition Field flow\n",
        "    # \"\"\"\n",
        "    markov_flow = self.block3(markov_tensor)\n",
        "\n",
        "    # Block 4\n",
        "    identity = markov_flow\n",
        "    markov_flow = self.block4(markov_flow)\n",
        "    markov_flow = markov_flow + self.block4_projection(identity)\n",
        "\n",
        "    # Block 5\n",
        "    identity = markov_flow\n",
        "    markov_flow = self.block5_downsampling(markov_flow)\n",
        "    markov_flow = self.block5(markov_flow)\n",
        "    markov_flow = markov_flow + self.block5_projection(identity)\n",
        "\n",
        "    markov_flow = self.fully_connected2(markov_flow)\n",
        "    \"\"\"\n",
        "    End of Markov Transition Field flow\n",
        "    \"\"\"\n",
        "\n",
        "    \"\"\"\n",
        "    Merge flows\n",
        "    \"\"\"\n",
        "    final_result = time_record_flow + wavelet_flow + markov_flow\n",
        "    # final_result = wavelet_flow\n",
        "    return final_result\n",
        "\n",
        "\n",
        "from torchsummary import summary\n",
        "\n",
        "try: # remove previous model when compiling failed\n",
        "  del model\n",
        "except:\n",
        "  pass\n",
        "model = ProposedModel(num_classes=5).to(device)\n",
        "# model = ProposedModel(num_classes=5)\n",
        "# summary(model, input_size=[(271,), (1, 60, 46), (1, 46, 46)])   # dimension debug\n",
        "# summary(model, input_size=[(1, 46, 46)])\n",
        "\n",
        "# Test for training model\n",
        "for epoch in range(1):\n",
        "  for idx, (time_record_tensor, wavelet_tensor, markov_tensor, label_tensor) in enumerate(train_dataloader):\n",
        "    # Forward\n",
        "    time_record_tensor = time_record_tensor.to(device)\n",
        "    wavelet_tensor = wavelet_tensor.to(device)\n",
        "    markov_tensor = markov_tensor.to(device)\n",
        "    label_predict = model(time_record_tensor, wavelet_tensor, markov_tensor).to(device)\n",
        "    label_tensor = label_tensor.to(device)\n",
        "\n",
        "\n",
        "\n",
        "    # label_predict = model(time_record_tensor, wavelet_tensor, markov_tensor)\n",
        "\n",
        "\n",
        "    # label_tensor = label_tensor\n",
        "    break"
      ],
      "metadata": {
        "id": "TSilbjKhurOM"
      },
      "execution_count": 13,
      "outputs": []
    },
    {
      "cell_type": "code",
      "source": [
        "# Check model size\n",
        "model_size = 0\n",
        "for param in model.parameters():\n",
        "    if param.data.is_floating_point():\n",
        "        model_size += param.numel() * torch.finfo(param.data.dtype).bits\n",
        "    else:\n",
        "        model_size += param.numel() * torch.iinfo(param.data.dtype).bits\n",
        "print(f\"{model_size / 8e6:.2f} / MB\")"
      ],
      "metadata": {
        "colab": {
          "base_uri": "https://localhost:8080/"
        },
        "id": "eZeIm1YeCt10",
        "outputId": "0e8d1ecd-f458-48a0-c9bd-2555de39d6eb"
      },
      "execution_count": 14,
      "outputs": [
        {
          "output_type": "stream",
          "name": "stdout",
          "text": [
            "820.74 / MB\n"
          ]
        }
      ]
    },
    {
      "cell_type": "markdown",
      "source": [
        "# **5. Loss function, Optimization Method and Model Training**"
      ],
      "metadata": {
        "id": "mdbdFP-2fFxU"
      }
    },
    {
      "cell_type": "code",
      "source": [
        "### Loss function and Optimization method\n",
        "from torch import optim\n",
        "\n",
        "# Loss function\n",
        "loss_function = nn.CrossEntropyLoss()\n",
        "\n",
        "# Optimization method\n",
        "learning_rate = 1e-3\n",
        "weight_decay = 1e-4  # L2 Regularization\n",
        "optimizer = optim.Adam(\n",
        "    params=model.parameters(),\n",
        "    lr=learning_rate,\n",
        "    weight_decay=weight_decay,\n",
        ")"
      ],
      "metadata": {
        "id": "yX5ShZZWvz6V"
      },
      "execution_count": 15,
      "outputs": []
    },
    {
      "cell_type": "code",
      "source": [
        "del X_train, X_test, y_train, y_test"
      ],
      "metadata": {
        "id": "-A9hGDukSQpj"
      },
      "execution_count": 16,
      "outputs": []
    },
    {
      "cell_type": "code",
      "source": [
        "### Training model\n",
        "num_epochs = 50\n",
        "epochs_loss = dict()\n",
        "\n",
        "for epoch in range(num_epochs):\n",
        "  # for idx, (time_record_tensor, wavelet_tensor, markov_tensor, label_tensor) in enumerate(train_dataloader):\n",
        "  for idx, (time_record_tensor, wavelet_tensor, markov_tensor, label_tensor) in enumerate(train_dataloader):\n",
        "    # Forward\n",
        "    time_record_tensor = time_record_tensor.to(device)\n",
        "    wavelet_tensor = wavelet_tensor.to(device)\n",
        "    markov_tensor = markov_tensor.to(device)\n",
        "    label_predict = model(time_record_tensor, wavelet_tensor, markov_tensor).to(device)\n",
        "    label_tensor = label_tensor.to(device)\n",
        "    # label_predict = model(time_record_tensor, wavelet_tensor, markov_tensor)\n",
        "\n",
        "    forward_loss = loss_function(label_predict, label_tensor)\n",
        "\n",
        "    # Backward\n",
        "    optimizer.zero_grad()\n",
        "    forward_loss.backward()\n",
        "    optimizer.step()\n",
        "\n",
        "  epochs_loss[epoch+1] = forward_loss.item()\n",
        "  print(f\"epoch: {epoch+1}, loss = {forward_loss.item():.4f}\")"
      ],
      "metadata": {
        "id": "LD29JQdRv3TN",
        "colab": {
          "base_uri": "https://localhost:8080/"
        },
        "outputId": "b0b52248-0faf-4d12-8a50-ab227de318a2"
      },
      "execution_count": 17,
      "outputs": [
        {
          "output_type": "stream",
          "name": "stdout",
          "text": [
            "epoch: 1, loss = 0.6530\n",
            "epoch: 2, loss = 0.5111\n",
            "epoch: 3, loss = 0.4273\n",
            "epoch: 4, loss = 0.3652\n",
            "epoch: 5, loss = 0.3539\n",
            "epoch: 6, loss = 0.3153\n",
            "epoch: 7, loss = 0.3225\n",
            "epoch: 8, loss = 0.2978\n",
            "epoch: 9, loss = 0.2740\n",
            "epoch: 10, loss = 0.2659\n",
            "epoch: 11, loss = 0.2750\n",
            "epoch: 12, loss = 0.2526\n",
            "epoch: 13, loss = 0.2495\n",
            "epoch: 14, loss = 0.2565\n",
            "epoch: 15, loss = 0.2513\n",
            "epoch: 16, loss = 0.2461\n",
            "epoch: 17, loss = 0.2404\n",
            "epoch: 18, loss = 0.2458\n",
            "epoch: 19, loss = 0.2383\n",
            "epoch: 20, loss = 0.2314\n",
            "epoch: 21, loss = 0.2258\n",
            "epoch: 22, loss = 0.2470\n",
            "epoch: 23, loss = 0.2203\n",
            "epoch: 24, loss = 0.2373\n",
            "epoch: 25, loss = 0.2591\n",
            "epoch: 26, loss = 0.2541\n",
            "epoch: 27, loss = 0.2295\n",
            "epoch: 28, loss = 0.2486\n",
            "epoch: 29, loss = 0.2326\n",
            "epoch: 30, loss = 0.2300\n",
            "epoch: 31, loss = 0.2240\n",
            "epoch: 32, loss = 0.2244\n",
            "epoch: 33, loss = 0.2486\n",
            "epoch: 34, loss = 0.2259\n",
            "epoch: 35, loss = 0.2311\n",
            "epoch: 36, loss = 0.2251\n",
            "epoch: 37, loss = 0.2300\n",
            "epoch: 38, loss = 0.2384\n",
            "epoch: 39, loss = 0.2211\n",
            "epoch: 40, loss = 0.2283\n",
            "epoch: 41, loss = 0.2443\n",
            "epoch: 42, loss = 0.2361\n",
            "epoch: 43, loss = 0.2310\n",
            "epoch: 44, loss = 0.2217\n",
            "epoch: 45, loss = 0.2321\n",
            "epoch: 46, loss = 0.2249\n",
            "epoch: 47, loss = 0.2468\n",
            "epoch: 48, loss = 0.2385\n",
            "epoch: 49, loss = 0.2282\n",
            "epoch: 50, loss = 0.2380\n"
          ]
        }
      ]
    },
    {
      "cell_type": "markdown",
      "source": [
        "# **6. Model Explain**"
      ],
      "metadata": {
        "id": "JUWYmsoffMY1"
      }
    },
    {
      "cell_type": "code",
      "source": [
        "import torch\n",
        "from collections import Counter\n",
        "\n",
        "# time_record_batch = []\n",
        "# wavelet_batch = []\n",
        "# markov_batch = []\n",
        "# label_batch = []\n",
        "#\n",
        "# for idx, (time_record_tensor, wavelet_tensor, markov_tensor, label_tensor) in enumerate(train_dataloader):\n",
        "#   for time_record in time_record_tensor:\n",
        "#     time_record_batch.append(time_record)\n",
        "#\n",
        "#   for wavelet_record in wavelet_tensor:\n",
        "#     wavelet_batch.append(wavelet_record)\n",
        "#\n",
        "#   for markov_record in markov_tensor:\n",
        "#     markov_batch.append(markov_record)\n",
        "#\n",
        "#   for label_record in label_tensor:\n",
        "#     label_batch.append(label_record)\n",
        "#\n",
        "#\n",
        "# time_record_batch = torch.stack(time_record_batch).cuda()\n",
        "# wavelet_batch = torch.stack(wavelet_batch).cuda()\n",
        "# markov_batch = torch.stack(markov_batch).cuda()\n",
        "# label_batch = torch.stack(label_batch)\n",
        "\n",
        "def sample_k_per_class(dataloader, k, num_classes):\n",
        "    \"\"\"\n",
        "    Iterate through dataloader and collect k samples for each class.\n",
        "\n",
        "    Returns four stacked tensors: (time_recs, wavelets, markovs, labels)\n",
        "    each of shape (k * num_classes, …).\n",
        "    \"\"\"\n",
        "    collected = Counter()\n",
        "    buffers = {\n",
        "        'time':   [],\n",
        "        'wavelet':[],\n",
        "        'markov': [],\n",
        "        'label':  []\n",
        "    }\n",
        "\n",
        "    for time_rec, wavelet, markov, label in dataloader:\n",
        "        # iterate sample-by-sample in the batch\n",
        "        for tr, wv, mk, lb in zip(time_rec, wavelet, markov, label):\n",
        "            cls = np.argmax(lb.cpu().detach().numpy())\n",
        "            if collected[cls] < k:\n",
        "                buffers['time'].append(tr)\n",
        "                buffers['wavelet'].append(wv)\n",
        "                buffers['markov'].append(mk)\n",
        "                buffers['label'].append(lb)\n",
        "                collected[cls] += 1\n",
        "\n",
        "                # stop if every class has k samples\n",
        "                if len(collected) == num_classes and all(v == k for v in collected.values()):\n",
        "                    break\n",
        "        if len(collected) == num_classes and all(v == k for v in collected.values()):\n",
        "            break\n",
        "\n",
        "    # sanity check\n",
        "    total = sum(collected.values())\n",
        "    if total < k * num_classes:\n",
        "        raise ValueError(f\"Only found {total} samples; \"\n",
        "                         f\"needed {k * num_classes} (check your dataset!)\")\n",
        "\n",
        "    # stack into final batches\n",
        "    time_batch    = torch.stack(buffers['time'])\n",
        "    wavelet_batch = torch.stack(buffers['wavelet'])\n",
        "    markov_batch  = torch.stack(buffers['markov'])\n",
        "    label_batch   = torch.stack(buffers['label'])\n",
        "\n",
        "    return time_batch, wavelet_batch, markov_batch, label_batch\n",
        "\n",
        "# ——— Usage ———\n",
        "k = 2  # number of sample per class\n",
        "num_classes = 5   # or infer this from your dataset\n",
        "time_batch, wavelet_batch, markov_batch, label_batch = sample_k_per_class(\n",
        "    train_dataloader, k, num_classes\n",
        ")\n",
        "\n",
        "print(time_batch.shape)    # should be (10, …)\n",
        "print(wavelet_batch.shape) # (10, …)\n",
        "print(markov_batch.shape)  # (10, …)\n",
        "print(label_batch.shape)   # (10,)"
      ],
      "metadata": {
        "colab": {
          "base_uri": "https://localhost:8080/"
        },
        "id": "xr7FlnRbUp1I",
        "outputId": "eb054986-e218-46d0-bf23-2ea7cb73607d"
      },
      "execution_count": 40,
      "outputs": [
        {
          "output_type": "stream",
          "name": "stdout",
          "text": [
            "torch.Size([10, 271])\n",
            "torch.Size([10, 1, 60, 46])\n",
            "torch.Size([10, 1, 46, 46])\n",
            "torch.Size([10, 5])\n"
          ]
        }
      ]
    },
    {
      "cell_type": "code",
      "source": [
        "import shap\n",
        "\n",
        "explainer = shap.GradientExplainer(model, [time_batch.cuda(), wavelet_batch.cuda(), markov_batch.cuda()])\n",
        "\n",
        "# we explain the model's predictions on the first three samples of the test set\n",
        "shap_values = explainer.shap_values([time_batch.cuda(), wavelet_batch.cuda(), markov_batch.cuda()])"
      ],
      "metadata": {
        "id": "PEHUA-ToVyNN"
      },
      "execution_count": 41,
      "outputs": []
    },
    {
      "cell_type": "code",
      "source": [
        "[np.array(shap_values[i]).shape for i in range(3)]"
      ],
      "metadata": {
        "colab": {
          "base_uri": "https://localhost:8080/"
        },
        "id": "3uyNyzvsWCXE",
        "outputId": "4c50a1b0-469b-47b7-a554-91945b0423ff"
      },
      "execution_count": 42,
      "outputs": [
        {
          "output_type": "execute_result",
          "data": {
            "text/plain": [
              "[(10, 271, 5), (10, 1, 60, 46, 5), (10, 1, 46, 46, 5)]"
            ]
          },
          "metadata": {},
          "execution_count": 42
        }
      ]
    },
    {
      "cell_type": "code",
      "source": [
        "# prompt: convert shap_values into numpy\n",
        "\n",
        "import numpy as np\n",
        "shap_values_0 = np.array(shap_values[0])  # Shap values for feature input 1 (QRS complex)\n",
        "shap_values_1 = np.array(shap_values[1]).reshape(10, 60, 46, 1, 5) # Shap values for feature input 2 (CWT)\n",
        "shap_values_2 = np.array(shap_values[2]).reshape(10, 46, 46, 1, 5) # Shap values for feature input 3 (MTF)\n"
      ],
      "metadata": {
        "id": "uRrwHfj2YSLZ"
      },
      "execution_count": 43,
      "outputs": []
    },
    {
      "cell_type": "code",
      "source": [
        "# time_features = np.array(time_batch.cpu()).reshape(500, 271)\n",
        "# wavelet_features = np.array(wavelet_batch.cpu()).reshape(500, 60, 46, 1)\n",
        "# markov_features = np.array(markov_batch.cpu()).reshape(500, 46, 46, 1)"
      ],
      "metadata": {
        "id": "XRi0L96mZS9r"
      },
      "execution_count": 44,
      "outputs": []
    },
    {
      "cell_type": "code",
      "source": [
        "sample = 1\n",
        "shap_values_0[sample][:,0:1].shape"
      ],
      "metadata": {
        "colab": {
          "base_uri": "https://localhost:8080/"
        },
        "id": "tERgLYPZf98P",
        "outputId": "564e3b5e-db48-4b98-d081-518b9f6441fd"
      },
      "execution_count": 45,
      "outputs": [
        {
          "output_type": "execute_result",
          "data": {
            "text/plain": [
              "(271, 1)"
            ]
          },
          "metadata": {},
          "execution_count": 45
        }
      ]
    },
    {
      "cell_type": "code",
      "source": [
        "import numpy as np\n",
        "import matplotlib.pyplot as plt\n",
        "\n",
        "# ===== User parameters =====\n",
        "sample = 4                  # ECG sample index\n",
        "# explain_output = 2        # output to be explained # No need this since we are explain all outputs\n",
        "fs = 360                    # sampling frequency (Hz)\n",
        "th = 0.5                    # Threshold to be considered strong impact (0 <= th <= 1)\n",
        "                            # Can think of total value of SHAP coeffs in this segment\n",
        "for explain_output in [0, 1, 2, 3, 4]:\n",
        "  # ===== User parameters =====\n",
        "  # Uncomment this and delete for loop if want to explain only one output\n",
        "  # sample = 2                  # ECG sample index\n",
        "  # # explain_output = 2        # output to be explained\n",
        "  # fs = 360                    # sampling frequency (Hz)\n",
        "  # th = 0.2                    # Threshold to be considered strong impact (0 <= th <= 1)\n",
        "  #                             # Can think of total value of SHAP coeffs in this segment\n",
        "\n",
        "  # ===== Acquire SHAP values =====\n",
        "  # shap_values_0: [n_samples, n_timesteps, n_classes]\n",
        "  shap_val = shap_values_0[sample][:, explain_output]\n",
        "  max_val = np.max(shap_val)\n",
        "  min_val = np.min(shap_val)\n",
        "  # Normalized SHAP values to the range -1 to 1\n",
        "  # normalized_SHAP_val = 2*(shap_val - min_val)/(max_val - min_val) - 1\n",
        "\n",
        "  # Standardized SHAP values\n",
        "  normalized_SHAP_val = (shap_val - np.mean(shap_val)) / np.std(shap_val)\n",
        "\n",
        "  # ===== Locate R‑peak & define segments =====\n",
        "  peak_index = np.argmax(time_batch[sample])\n",
        "  bounds = {\n",
        "      \"P wave     \":      (0,                              peak_index - int(0.06 * fs)),\n",
        "      \"QRS complex\": (peak_index - int(0.06 * fs),    peak_index + int(0.06 * fs)),# QRS 0.06-0.1s 0.12s\n",
        "      \"T wave     \":      (peak_index + int(0.06 * fs),    len(normalized_SHAP_val))\n",
        "  }\n",
        "\n",
        "  # ===== Classification rule with length normalization =====\n",
        "  def classify_segment(seg_name, segment, th=0.5, exo_eq_pred=True):\n",
        "      if not exo_eq_pred:  # When explain output != prediction then the impact will be reverse\n",
        "          segment = -segment\n",
        "\n",
        "      impact_score = np.average(segment)\n",
        "      if impact_score > th:\n",
        "          return \"strong positive\", impact_score\n",
        "      elif impact_score > 0.5 * th:\n",
        "          return \"moderate positive\", impact_score\n",
        "      elif impact_score > 0.25 * th:\n",
        "          return \"weak positive\", impact_score\n",
        "      elif impact_score < -th:\n",
        "          return \"strong negative\", impact_score\n",
        "      elif impact_score < -0.5 * th:\n",
        "          return \"moderate negative\", impact_score\n",
        "      elif impact_score < -0.25 * th:\n",
        "          return \"weak negative\", impact_score\n",
        "\n",
        "      return \"negligible\", impact_score\n",
        "\n",
        "  # ===== Prediction, ground truth, and flip flag =====\n",
        "  prediction = np.argmax(\n",
        "      model(\n",
        "          time_batch[sample:sample+1].repeat(256, 1).cuda(),\n",
        "          wavelet_batch[sample:sample+1].repeat(256, 1, 1, 1).cuda(),\n",
        "          markov_batch[sample:sample+1].repeat(256, 1, 1, 1).cuda()\n",
        "      )[0].cpu().detach().numpy()\n",
        "  )\n",
        "  ground_truth = np.argmax(label_batch[sample])\n",
        "  exo_eq_pred = (prediction == explain_output)\n",
        "\n",
        "  # ===== Build explanations =====\n",
        "  explanations = {}\n",
        "  for name, (st, en) in bounds.items():\n",
        "      segment = normalized_SHAP_val[st:en]\n",
        "      impact, impact_score = classify_segment(name, segment, th, exo_eq_pred)\n",
        "      explanations[name] = f\"{name}, impact score: {impact_score:.4f} => impact: {impact}\"\n",
        "\n",
        "  # ===== Print outcomes =====\n",
        "  print(f\"Ground truth class  : {ground_truth}\")\n",
        "  print(f\"Prediction class    : {prediction}\")\n",
        "  print(f\"Explain output class: {explain_output}\")\n",
        "  print(f\"Threshold           : {th}\")\n",
        "  print(\"=============================================\")\n",
        "  comment_label = \"\" if exo_eq_pred else \"not \"\n",
        "  print(f\"Model explains why this is {comment_label}class {explain_output}:\")\n",
        "  for seg, txt in explanations.items():\n",
        "      print(\" -\", txt)\n",
        "\n",
        "  # ===== Plot ECG & SHAP =====\n",
        "  fig, ax1 = plt.subplots()\n",
        "  ax1.plot(time_batch[sample], color=\"green\")\n",
        "  ax1.set_xlabel('Time')\n",
        "  ax1.set_ylabel('ECG signal', color=\"green\")\n",
        "  ax1.tick_params(axis='y', labelcolor='green')\n",
        "\n",
        "  ax2 = ax1.twinx()\n",
        "  ax2.set_ylabel('SHAP value', color='tab:red')\n",
        "  ax2.tick_params(axis='y', labelcolor='tab:red')\n",
        "  for i, v in enumerate(shap_val):\n",
        "      intensity = abs(v) / np.max(np.abs(shap_val))\n",
        "      color = plt.cm.Reds(intensity) if v > 0 else plt.cm.Blues(intensity)\n",
        "      ax2.bar(i, v, color=color, width=0.5)\n",
        "\n",
        "  plt.title(f\"ECG (green) & SHAP value\")\n",
        "  fig.tight_layout()\n",
        "  plt.show()\n",
        "  print(\"\\n\\n\\n\")"
      ],
      "metadata": {
        "colab": {
          "base_uri": "https://localhost:8080/",
          "height": 1000
        },
        "id": "_S_pO1c4m9Hc",
        "outputId": "50be7659-3950-4458-fa6f-5f7f5533467d"
      },
      "execution_count": 46,
      "outputs": [
        {
          "output_type": "stream",
          "name": "stdout",
          "text": [
            "Ground truth class  : 1\n",
            "Prediction class    : 1\n",
            "Explain output class: 0\n",
            "Threshold           : 0.5\n",
            "=============================================\n",
            "Model explains why this is not class 0:\n",
            " - P wave     , impact score: -0.0174 => impact: negligible\n",
            " - QRS complex, impact score: -0.3929 => impact: moderate negative\n",
            " - T wave     , impact score: 0.1592 => impact: weak positive\n"
          ]
        },
        {
          "output_type": "display_data",
          "data": {
            "text/plain": [
              "<Figure size 640x480 with 2 Axes>"
            ],
            "image/png": "[encoded data removed]"
          },
          "metadata": {}
        },
        {
          "output_type": "stream",
          "name": "stdout",
          "text": [
            "\n",
            "\n",
            "\n",
            "\n",
            "Ground truth class  : 1\n",
            "Prediction class    : 1\n",
            "Explain output class: 1\n",
            "Threshold           : 0.5\n",
            "=============================================\n",
            "Model explains why this is class 1:\n",
            " - P wave     , impact score: -0.2310 => impact: weak negative\n",
            " - QRS complex, impact score: 0.6178 => impact: strong positive\n",
            " - T wave     , impact score: 0.0013 => impact: negligible\n"
          ]
        },
        {
          "output_type": "display_data",
          "data": {
            "text/plain": [
              "<Figure size 640x480 with 2 Axes>"
            ],
            "image/png": "[encoded data removed]"
          },
          "metadata": {}
        },
        {
          "output_type": "stream",
          "name": "stdout",
          "text": [
            "\n",
            "\n",
            "\n",
            "\n",
            "Ground truth class  : 1\n",
            "Prediction class    : 1\n",
            "Explain output class: 2\n",
            "Threshold           : 0.5\n",
            "=============================================\n",
            "Model explains why this is not class 2:\n",
            " - P wave     , impact score: -0.2196 => impact: weak negative\n",
            " - QRS complex, impact score: 0.8925 => impact: strong positive\n",
            " - T wave     , impact score: -0.1092 => impact: negligible\n"
          ]
        },
        {
          "output_type": "display_data",
          "data": {
            "text/plain": [
              "<Figure size 640x480 with 2 Axes>"
            ],
            "image/png": "[encoded data removed]"
          },
          "metadata": {}
        },
        {
          "output_type": "stream",
          "name": "stdout",
          "text": [
            "\n",
            "\n",
            "\n",
            "\n",
            "Ground truth class  : 1\n",
            "Prediction class    : 1\n",
            "Explain output class: 3\n",
            "Threshold           : 0.5\n",
            "=============================================\n",
            "Model explains why this is not class 3:\n",
            " - P wave     , impact score: 0.0233 => impact: negligible\n",
            " - QRS complex, impact score: 0.3253 => impact: moderate positive\n",
            " - T wave     , impact score: -0.1404 => impact: weak negative\n"
          ]
        },
        {
          "output_type": "display_data",
          "data": {
            "text/plain": [
              "<Figure size 640x480 with 2 Axes>"
            ],
            "image/png": "[encoded data removed]"
          },
          "metadata": {}
        },
        {
          "output_type": "stream",
          "name": "stdout",
          "text": [
            "\n",
            "\n",
            "\n",
            "\n",
            "Ground truth class  : 1\n",
            "Prediction class    : 1\n",
            "Explain output class: 4\n",
            "Threshold           : 0.5\n",
            "=============================================\n",
            "Model explains why this is not class 4:\n",
            " - P wave     , impact score: -0.2572 => impact: moderate negative\n",
            " - QRS complex, impact score: 1.1647 => impact: strong positive\n",
            " - T wave     , impact score: -0.1712 => impact: weak negative\n"
          ]
        },
        {
          "output_type": "display_data",
          "data": {
            "text/plain": [
              "<Figure size 640x480 with 2 Axes>"
            ],
            "image/png": "[encoded data removed]"
          },
          "metadata": {}
        },
        {
          "output_type": "stream",
          "name": "stdout",
          "text": [
            "\n",
            "\n",
            "\n",
            "\n"
          ]
        }
      ]
    },
    {
      "cell_type": "markdown",
      "source": [
        "# **7. Saving Model**"
      ],
      "metadata": {
        "id": "Gz0TDKMh_Evj"
      }
    },
    {
      "cell_type": "code",
      "source": [
        "torch.save(model.state_dict(), \"ecg_heartbeat_classfication_model\")"
      ],
      "metadata": {
        "id": "3Bq6sS3dOVA8"
      },
      "execution_count": null,
      "outputs": []
    },
    {
      "cell_type": "code",
      "source": [
        "torch.save({\n",
        "            'epoch': epoch,\n",
        "            'model_state_dict': model.state_dict(),\n",
        "            'optimizer_state_dict': optimizer.state_dict(),\n",
        "            'loss': loss_function,\n",
        "            }, \"complete_ecg_heartbeat_classfication_model\")"
      ],
      "metadata": {
        "id": "XwKE-0gUR4Jq"
      },
      "execution_count": null,
      "outputs": []
    }
  ]
}