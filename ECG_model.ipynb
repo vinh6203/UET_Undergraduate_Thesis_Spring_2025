{
  "nbformat": 4,
  "nbformat_minor": 0,
  "metadata": {
    "colab": {
      "provenance": [],
      "collapsed_sections": [
        "A5hIcaDRZUNh",
        "-m6uee0nZaJh",
        "fr74EDIpZ-BI",
        "mdbdFP-2fFxU",
        "Gz0TDKMh_Evj"
      ],
      "toc_visible": true
    },
    "kernelspec": {
      "name": "python3",
      "display_name": "Python 3"
    },
    "language_info": {
      "name": "python"
    }
  },
  "cells": [
    {
      "cell_type": "markdown",
      "source": [
        "# **1. Download data and install packages**"
      ],
      "metadata": {
        "id": "A5hIcaDRZUNh"
      }
    },
    {
      "cell_type": "code",
      "execution_count": null,
      "metadata": {
        "colab": {
          "base_uri": "https://localhost:8080/"
        },
        "id": "i8uYVaV42gOm",
        "outputId": "04007fba-33ee-4633-9216-9b961ee0168a"
      },
      "outputs": [
        {
          "output_type": "stream",
          "name": "stdout",
          "text": [
            "Downloading...\n",
            "From (original): https://drive.google.com/uc?id=1QEbk-ELdmjEpmFcWyYnOQwd0DRr9eL2G\n",
            "From (redirected): https://drive.google.com/uc?id=1QEbk-ELdmjEpmFcWyYnOQwd0DRr9eL2G&confirm=t&uuid=c23013a4-5937-4859-a3ec-e72ea3362379\n",
            "To: /content/mit_bih_data.csv\n",
            "100% 765M/765M [00:10<00:00, 72.2MB/s]\n"
          ]
        }
      ],
      "source": [
        "!gdown 1QEbk-ELdmjEpmFcWyYnOQwd0DRr9eL2G"
      ]
    },
    {
      "cell_type": "code",
      "source": [
        "!pip -qq install PyWavelets\n",
        "!pip -qq install pyts"
      ],
      "metadata": {
        "colab": {
          "base_uri": "https://localhost:8080/"
        },
        "id": "0ozxk3Hn-2_v",
        "outputId": "24fc862d-cbab-45d9-af10-3c19953ae7eb"
      },
      "execution_count": null,
      "outputs": [
        {
          "output_type": "stream",
          "name": "stdout",
          "text": [
            "\u001b[2K   \u001b[90m━━━━━━━━━━━━━━━━━━━━━━━━━━━━━━━━━━━━━━━━\u001b[0m \u001b[32m4.5/4.5 MB\u001b[0m \u001b[31m16.6 MB/s\u001b[0m eta \u001b[36m0:00:00\u001b[0m\n",
            "\u001b[2K   \u001b[90m━━━━━━━━━━━━━━━━━━━━━━━━━━━━━━━━━━━━━━━━\u001b[0m \u001b[32m2.5/2.5 MB\u001b[0m \u001b[31m23.2 MB/s\u001b[0m eta \u001b[36m0:00:00\u001b[0m\n",
            "\u001b[?25h"
          ]
        }
      ]
    },
    {
      "cell_type": "markdown",
      "source": [
        "# **2. Importing libraries and data**"
      ],
      "metadata": {
        "id": "-m6uee0nZaJh"
      }
    },
    {
      "cell_type": "code",
      "source": [
        "import pandas as pd\n",
        "import numpy as np\n",
        "import torch\n",
        "from torch import nn\n",
        "from torch.utils.data import Dataset, DataLoader\n",
        "\n",
        "import pywt # For wavelet transform\n",
        "from pyts.image import MarkovTransitionField # For Markov Transition Field"
      ],
      "metadata": {
        "id": "mYEEkU7ssi81"
      },
      "execution_count": null,
      "outputs": []
    },
    {
      "cell_type": "code",
      "source": [
        "# First 271 cols contain data, Last col contains class (5 different classes)\n",
        "df = pd.read_csv('./mit_bih_data.csv', header=None)\n",
        "df"
      ],
      "metadata": {
        "colab": {
          "base_uri": "https://localhost:8080/",
          "height": 443
        },
        "id": "aKmd8ih_qy7A",
        "outputId": "40adf573-524f-416d-882d-2ef6e70856e4"
      },
      "execution_count": null,
      "outputs": [
        {
          "output_type": "execute_result",
          "data": {
            "text/plain": [
              "             0         1         2         3         4         5         6    \\\n",
              "0       0.588844  0.588654  0.588334  0.587855  0.587206  0.586394  0.585464   \n",
              "1       0.578133  0.577636  0.577092  0.576522  0.575956  0.575431  0.574974   \n",
              "2       0.573414  0.572866  0.572233  0.571576  0.570973  0.570499  0.570210   \n",
              "3       0.577282  0.577243  0.577355  0.577547  0.577735  0.577841  0.577800   \n",
              "4       0.576740  0.576704  0.576705  0.576707  0.576683  0.576618  0.576515   \n",
              "...          ...       ...       ...       ...       ...       ...       ...   \n",
              "112497  0.428762  0.427685  0.426598  0.425531  0.424482  0.423434  0.422382   \n",
              "112498  0.434033  0.434040  0.434087  0.434045  0.433790  0.433248  0.432413   \n",
              "112499  0.433764  0.433542  0.433291  0.432878  0.432264  0.431493  0.430688   \n",
              "112500  0.424160  0.424108  0.423675  0.422888  0.421871  0.420816  0.419940   \n",
              "112501  0.432248  0.430687  0.429040  0.427580  0.426542  0.426059  0.426133   \n",
              "\n",
              "             7         8         9    ...       262       263       264  \\\n",
              "0       0.584492  0.583573  0.582812  ...  0.581103  0.581080  0.581053   \n",
              "1       0.574603  0.574331  0.574159  ...  0.579950  0.579893  0.579956   \n",
              "2       0.570125  0.570227  0.570463  ...  0.585479  0.585485  0.585377   \n",
              "3       0.577572  0.577153  0.576572  ...  0.581164  0.581510  0.581999   \n",
              "4       0.576386  0.576264  0.576167  ...  0.586527  0.586918  0.587336   \n",
              "...          ...       ...       ...  ...       ...       ...       ...   \n",
              "112497  0.421346  0.420375  0.419542  ...  0.426686  0.427223  0.428053   \n",
              "112498  0.431352  0.430186  0.429057  ...  0.428152  0.426986  0.426260   \n",
              "112499  0.430014  0.429629  0.429635  ...  0.420577  0.421564  0.422542   \n",
              "112500  0.419422  0.419369  0.419788  ...  0.424047  0.424681  0.425568   \n",
              "112501  0.426637  0.427344  0.427990  ...  0.436488  0.436461  0.436136   \n",
              "\n",
              "             265       266       267       268       269       270  271  \n",
              "0       0.581026  0.580996  0.580946  0.580866  0.580745  0.580595  0.0  \n",
              "1       0.580128  0.580379  0.580662  0.580920  0.581086  0.581096  0.0  \n",
              "2       0.585168  0.584886  0.584562  0.584228  0.583907  0.583619  0.0  \n",
              "3       0.582616  0.583305  0.583991  0.584573  0.584963  0.585090  0.0  \n",
              "4       0.587758  0.588162  0.588520  0.588796  0.588948  0.588941  0.0  \n",
              "...          ...       ...       ...       ...       ...       ...  ...  \n",
              "112497  0.429110  0.430266  0.431346  0.432168  0.432584  0.432518  0.0  \n",
              "112498  0.426087  0.426461  0.427260  0.428275  0.429270  0.430037  0.0  \n",
              "112499  0.423309  0.423729  0.423750  0.423427  0.422894  0.422332  0.0  \n",
              "112500  0.426517  0.427351  0.427951  0.428280  0.428385  0.428369  0.0  \n",
              "112501  0.435639  0.435146  0.434848  0.434891  0.435345  0.436183  0.0  \n",
              "\n",
              "[112502 rows x 272 columns]"
            ],
            "text/html": [
              "\n",
              "  <div id=\"df-ebdb20d1-2471-4910-81b0-8c19f6157075\" class=\"colab-df-container\">\n",
              "    <div>\n",
              "<style scoped>\n",
              "    .dataframe tbody tr th:only-of-type {\n",
              "        vertical-align: middle;\n",
              "    }\n",
              "\n",
              "    .dataframe tbody tr th {\n",
              "        vertical-align: top;\n",
              "    }\n",
              "\n",
              "    .dataframe thead th {\n",
              "        text-align: right;\n",
              "    }\n",
              "</style>\n",
              "<table border=\"1\" class=\"dataframe\">\n",
              "  <thead>\n",
              "    <tr style=\"text-align: right;\">\n",
              "      <th></th>\n",
              "      <th>0</th>\n",
              "      <th>1</th>\n",
              "      <th>2</th>\n",
              "      <th>3</th>\n",
              "      <th>4</th>\n",
              "      <th>5</th>\n",
              "      <th>6</th>\n",
              "      <th>7</th>\n",
              "      <th>8</th>\n",
              "      <th>9</th>\n",
              "      <th>...</th>\n",
              "      <th>262</th>\n",
              "      <th>263</th>\n",
              "      <th>264</th>\n",
              "      <th>265</th>\n",
              "      <th>266</th>\n",
              "      <th>267</th>\n",
              "      <th>268</th>\n",
              "      <th>269</th>\n",
              "      <th>270</th>\n",
              "      <th>271</th>\n",
              "    </tr>\n",
              "  </thead>\n",
              "  <tbody>\n",
              "    <tr>\n",
              "      <th>0</th>\n",
              "      <td>0.588844</td>\n",
              "      <td>0.588654</td>\n",
              "      <td>0.588334</td>\n",
              "      <td>0.587855</td>\n",
              "      <td>0.587206</td>\n",
              "      <td>0.586394</td>\n",
              "      <td>0.585464</td>\n",
              "      <td>0.584492</td>\n",
              "      <td>0.583573</td>\n",
              "      <td>0.582812</td>\n",
              "      <td>...</td>\n",
              "      <td>0.581103</td>\n",
              "      <td>0.581080</td>\n",
              "      <td>0.581053</td>\n",
              "      <td>0.581026</td>\n",
              "      <td>0.580996</td>\n",
              "      <td>0.580946</td>\n",
              "      <td>0.580866</td>\n",
              "      <td>0.580745</td>\n",
              "      <td>0.580595</td>\n",
              "      <td>0.0</td>\n",
              "    </tr>\n",
              "    <tr>\n",
              "      <th>1</th>\n",
              "      <td>0.578133</td>\n",
              "      <td>0.577636</td>\n",
              "      <td>0.577092</td>\n",
              "      <td>0.576522</td>\n",
              "      <td>0.575956</td>\n",
              "      <td>0.575431</td>\n",
              "      <td>0.574974</td>\n",
              "      <td>0.574603</td>\n",
              "      <td>0.574331</td>\n",
              "      <td>0.574159</td>\n",
              "      <td>...</td>\n",
              "      <td>0.579950</td>\n",
              "      <td>0.579893</td>\n",
              "      <td>0.579956</td>\n",
              "      <td>0.580128</td>\n",
              "      <td>0.580379</td>\n",
              "      <td>0.580662</td>\n",
              "      <td>0.580920</td>\n",
              "      <td>0.581086</td>\n",
              "      <td>0.581096</td>\n",
              "      <td>0.0</td>\n",
              "    </tr>\n",
              "    <tr>\n",
              "      <th>2</th>\n",
              "      <td>0.573414</td>\n",
              "      <td>0.572866</td>\n",
              "      <td>0.572233</td>\n",
              "      <td>0.571576</td>\n",
              "      <td>0.570973</td>\n",
              "      <td>0.570499</td>\n",
              "      <td>0.570210</td>\n",
              "      <td>0.570125</td>\n",
              "      <td>0.570227</td>\n",
              "      <td>0.570463</td>\n",
              "      <td>...</td>\n",
              "      <td>0.585479</td>\n",
              "      <td>0.585485</td>\n",
              "      <td>0.585377</td>\n",
              "      <td>0.585168</td>\n",
              "      <td>0.584886</td>\n",
              "      <td>0.584562</td>\n",
              "      <td>0.584228</td>\n",
              "      <td>0.583907</td>\n",
              "      <td>0.583619</td>\n",
              "      <td>0.0</td>\n",
              "    </tr>\n",
              "    <tr>\n",
              "      <th>3</th>\n",
              "      <td>0.577282</td>\n",
              "      <td>0.577243</td>\n",
              "      <td>0.577355</td>\n",
              "      <td>0.577547</td>\n",
              "      <td>0.577735</td>\n",
              "      <td>0.577841</td>\n",
              "      <td>0.577800</td>\n",
              "      <td>0.577572</td>\n",
              "      <td>0.577153</td>\n",
              "      <td>0.576572</td>\n",
              "      <td>...</td>\n",
              "      <td>0.581164</td>\n",
              "      <td>0.581510</td>\n",
              "      <td>0.581999</td>\n",
              "      <td>0.582616</td>\n",
              "      <td>0.583305</td>\n",
              "      <td>0.583991</td>\n",
              "      <td>0.584573</td>\n",
              "      <td>0.584963</td>\n",
              "      <td>0.585090</td>\n",
              "      <td>0.0</td>\n",
              "    </tr>\n",
              "    <tr>\n",
              "      <th>4</th>\n",
              "      <td>0.576740</td>\n",
              "      <td>0.576704</td>\n",
              "      <td>0.576705</td>\n",
              "      <td>0.576707</td>\n",
              "      <td>0.576683</td>\n",
              "      <td>0.576618</td>\n",
              "      <td>0.576515</td>\n",
              "      <td>0.576386</td>\n",
              "      <td>0.576264</td>\n",
              "      <td>0.576167</td>\n",
              "      <td>...</td>\n",
              "      <td>0.586527</td>\n",
              "      <td>0.586918</td>\n",
              "      <td>0.587336</td>\n",
              "      <td>0.587758</td>\n",
              "      <td>0.588162</td>\n",
              "      <td>0.588520</td>\n",
              "      <td>0.588796</td>\n",
              "      <td>0.588948</td>\n",
              "      <td>0.588941</td>\n",
              "      <td>0.0</td>\n",
              "    </tr>\n",
              "    <tr>\n",
              "      <th>...</th>\n",
              "      <td>...</td>\n",
              "      <td>...</td>\n",
              "      <td>...</td>\n",
              "      <td>...</td>\n",
              "      <td>...</td>\n",
              "      <td>...</td>\n",
              "      <td>...</td>\n",
              "      <td>...</td>\n",
              "      <td>...</td>\n",
              "      <td>...</td>\n",
              "      <td>...</td>\n",
              "      <td>...</td>\n",
              "      <td>...</td>\n",
              "      <td>...</td>\n",
              "      <td>...</td>\n",
              "      <td>...</td>\n",
              "      <td>...</td>\n",
              "      <td>...</td>\n",
              "      <td>...</td>\n",
              "      <td>...</td>\n",
              "      <td>...</td>\n",
              "    </tr>\n",
              "    <tr>\n",
              "      <th>112497</th>\n",
              "      <td>0.428762</td>\n",
              "      <td>0.427685</td>\n",
              "      <td>0.426598</td>\n",
              "      <td>0.425531</td>\n",
              "      <td>0.424482</td>\n",
              "      <td>0.423434</td>\n",
              "      <td>0.422382</td>\n",
              "      <td>0.421346</td>\n",
              "      <td>0.420375</td>\n",
              "      <td>0.419542</td>\n",
              "      <td>...</td>\n",
              "      <td>0.426686</td>\n",
              "      <td>0.427223</td>\n",
              "      <td>0.428053</td>\n",
              "      <td>0.429110</td>\n",
              "      <td>0.430266</td>\n",
              "      <td>0.431346</td>\n",
              "      <td>0.432168</td>\n",
              "      <td>0.432584</td>\n",
              "      <td>0.432518</td>\n",
              "      <td>0.0</td>\n",
              "    </tr>\n",
              "    <tr>\n",
              "      <th>112498</th>\n",
              "      <td>0.434033</td>\n",
              "      <td>0.434040</td>\n",
              "      <td>0.434087</td>\n",
              "      <td>0.434045</td>\n",
              "      <td>0.433790</td>\n",
              "      <td>0.433248</td>\n",
              "      <td>0.432413</td>\n",
              "      <td>0.431352</td>\n",
              "      <td>0.430186</td>\n",
              "      <td>0.429057</td>\n",
              "      <td>...</td>\n",
              "      <td>0.428152</td>\n",
              "      <td>0.426986</td>\n",
              "      <td>0.426260</td>\n",
              "      <td>0.426087</td>\n",
              "      <td>0.426461</td>\n",
              "      <td>0.427260</td>\n",
              "      <td>0.428275</td>\n",
              "      <td>0.429270</td>\n",
              "      <td>0.430037</td>\n",
              "      <td>0.0</td>\n",
              "    </tr>\n",
              "    <tr>\n",
              "      <th>112499</th>\n",
              "      <td>0.433764</td>\n",
              "      <td>0.433542</td>\n",
              "      <td>0.433291</td>\n",
              "      <td>0.432878</td>\n",
              "      <td>0.432264</td>\n",
              "      <td>0.431493</td>\n",
              "      <td>0.430688</td>\n",
              "      <td>0.430014</td>\n",
              "      <td>0.429629</td>\n",
              "      <td>0.429635</td>\n",
              "      <td>...</td>\n",
              "      <td>0.420577</td>\n",
              "      <td>0.421564</td>\n",
              "      <td>0.422542</td>\n",
              "      <td>0.423309</td>\n",
              "      <td>0.423729</td>\n",
              "      <td>0.423750</td>\n",
              "      <td>0.423427</td>\n",
              "      <td>0.422894</td>\n",
              "      <td>0.422332</td>\n",
              "      <td>0.0</td>\n",
              "    </tr>\n",
              "    <tr>\n",
              "      <th>112500</th>\n",
              "      <td>0.424160</td>\n",
              "      <td>0.424108</td>\n",
              "      <td>0.423675</td>\n",
              "      <td>0.422888</td>\n",
              "      <td>0.421871</td>\n",
              "      <td>0.420816</td>\n",
              "      <td>0.419940</td>\n",
              "      <td>0.419422</td>\n",
              "      <td>0.419369</td>\n",
              "      <td>0.419788</td>\n",
              "      <td>...</td>\n",
              "      <td>0.424047</td>\n",
              "      <td>0.424681</td>\n",
              "      <td>0.425568</td>\n",
              "      <td>0.426517</td>\n",
              "      <td>0.427351</td>\n",
              "      <td>0.427951</td>\n",
              "      <td>0.428280</td>\n",
              "      <td>0.428385</td>\n",
              "      <td>0.428369</td>\n",
              "      <td>0.0</td>\n",
              "    </tr>\n",
              "    <tr>\n",
              "      <th>112501</th>\n",
              "      <td>0.432248</td>\n",
              "      <td>0.430687</td>\n",
              "      <td>0.429040</td>\n",
              "      <td>0.427580</td>\n",
              "      <td>0.426542</td>\n",
              "      <td>0.426059</td>\n",
              "      <td>0.426133</td>\n",
              "      <td>0.426637</td>\n",
              "      <td>0.427344</td>\n",
              "      <td>0.427990</td>\n",
              "      <td>...</td>\n",
              "      <td>0.436488</td>\n",
              "      <td>0.436461</td>\n",
              "      <td>0.436136</td>\n",
              "      <td>0.435639</td>\n",
              "      <td>0.435146</td>\n",
              "      <td>0.434848</td>\n",
              "      <td>0.434891</td>\n",
              "      <td>0.435345</td>\n",
              "      <td>0.436183</td>\n",
              "      <td>0.0</td>\n",
              "    </tr>\n",
              "  </tbody>\n",
              "</table>\n",
              "<p>112502 rows × 272 columns</p>\n",
              "</div>\n",
              "    <div class=\"colab-df-buttons\">\n",
              "\n",
              "  <div class=\"colab-df-container\">\n",
              "    <button class=\"colab-df-convert\" onclick=\"convertToInteractive('df-ebdb20d1-2471-4910-81b0-8c19f6157075')\"\n",
              "            title=\"Convert this dataframe to an interactive table.\"\n",
              "            style=\"display:none;\">\n",
              "\n",
              "  <svg xmlns=\"http://www.w3.org/2000/svg\" height=\"24px\" viewBox=\"0 -960 960 960\">\n",
              "    <path d=\"M120-120v-720h720v720H120Zm60-500h600v-160H180v160Zm220 220h160v-160H400v160Zm0 220h160v-160H400v160ZM180-400h160v-160H180v160Zm440 0h160v-160H620v160ZM180-180h160v-160H180v160Zm440 0h160v-160H620v160Z\"/>\n",
              "  </svg>\n",
              "    </button>\n",
              "\n",
              "  <style>\n",
              "    .colab-df-container {\n",
              "      display:flex;\n",
              "      gap: 12px;\n",
              "    }\n",
              "\n",
              "    .colab-df-convert {\n",
              "      background-color: #E8F0FE;\n",
              "      border: none;\n",
              "      border-radius: 50%;\n",
              "      cursor: pointer;\n",
              "      display: none;\n",
              "      fill: #1967D2;\n",
              "      height: 32px;\n",
              "      padding: 0 0 0 0;\n",
              "      width: 32px;\n",
              "    }\n",
              "\n",
              "    .colab-df-convert:hover {\n",
              "      background-color: #E2EBFA;\n",
              "      box-shadow: 0px 1px 2px rgba(60, 64, 67, 0.3), 0px 1px 3px 1px rgba(60, 64, 67, 0.15);\n",
              "      fill: #174EA6;\n",
              "    }\n",
              "\n",
              "    .colab-df-buttons div {\n",
              "      margin-bottom: 4px;\n",
              "    }\n",
              "\n",
              "    [theme=dark] .colab-df-convert {\n",
              "      background-color: #3B4455;\n",
              "      fill: #D2E3FC;\n",
              "    }\n",
              "\n",
              "    [theme=dark] .colab-df-convert:hover {\n",
              "      background-color: #434B5C;\n",
              "      box-shadow: 0px 1px 3px 1px rgba(0, 0, 0, 0.15);\n",
              "      filter: drop-shadow(0px 1px 2px rgba(0, 0, 0, 0.3));\n",
              "      fill: #FFFFFF;\n",
              "    }\n",
              "  </style>\n",
              "\n",
              "    <script>\n",
              "      const buttonEl =\n",
              "        document.querySelector('#df-ebdb20d1-2471-4910-81b0-8c19f6157075 button.colab-df-convert');\n",
              "      buttonEl.style.display =\n",
              "        google.colab.kernel.accessAllowed ? 'block' : 'none';\n",
              "\n",
              "      async function convertToInteractive(key) {\n",
              "        const element = document.querySelector('#df-ebdb20d1-2471-4910-81b0-8c19f6157075');\n",
              "        const dataTable =\n",
              "          await google.colab.kernel.invokeFunction('convertToInteractive',\n",
              "                                                    [key], {});\n",
              "        if (!dataTable) return;\n",
              "\n",
              "        const docLinkHtml = 'Like what you see? Visit the ' +\n",
              "          '<a target=\"_blank\" href=https://colab.research.google.com/notebooks/data_table.ipynb>data table notebook</a>'\n",
              "          + ' to learn more about interactive tables.';\n",
              "        element.innerHTML = '';\n",
              "        dataTable['output_type'] = 'display_data';\n",
              "        await google.colab.output.renderOutput(dataTable, element);\n",
              "        const docLink = document.createElement('div');\n",
              "        docLink.innerHTML = docLinkHtml;\n",
              "        element.appendChild(docLink);\n",
              "      }\n",
              "    </script>\n",
              "  </div>\n",
              "\n",
              "\n",
              "<div id=\"df-c82edcc4-2e94-4067-908d-c2135618660d\">\n",
              "  <button class=\"colab-df-quickchart\" onclick=\"quickchart('df-c82edcc4-2e94-4067-908d-c2135618660d')\"\n",
              "            title=\"Suggest charts\"\n",
              "            style=\"display:none;\">\n",
              "\n",
              "<svg xmlns=\"http://www.w3.org/2000/svg\" height=\"24px\"viewBox=\"0 0 24 24\"\n",
              "     width=\"24px\">\n",
              "    <g>\n",
              "        <path d=\"M19 3H5c-1.1 0-2 .9-2 2v14c0 1.1.9 2 2 2h14c1.1 0 2-.9 2-2V5c0-1.1-.9-2-2-2zM9 17H7v-7h2v7zm4 0h-2V7h2v10zm4 0h-2v-4h2v4z\"/>\n",
              "    </g>\n",
              "</svg>\n",
              "  </button>\n",
              "\n",
              "<style>\n",
              "  .colab-df-quickchart {\n",
              "      --bg-color: #E8F0FE;\n",
              "      --fill-color: #1967D2;\n",
              "      --hover-bg-color: #E2EBFA;\n",
              "      --hover-fill-color: #174EA6;\n",
              "      --disabled-fill-color: #AAA;\n",
              "      --disabled-bg-color: #DDD;\n",
              "  }\n",
              "\n",
              "  [theme=dark] .colab-df-quickchart {\n",
              "      --bg-color: #3B4455;\n",
              "      --fill-color: #D2E3FC;\n",
              "      --hover-bg-color: #434B5C;\n",
              "      --hover-fill-color: #FFFFFF;\n",
              "      --disabled-bg-color: #3B4455;\n",
              "      --disabled-fill-color: #666;\n",
              "  }\n",
              "\n",
              "  .colab-df-quickchart {\n",
              "    background-color: var(--bg-color);\n",
              "    border: none;\n",
              "    border-radius: 50%;\n",
              "    cursor: pointer;\n",
              "    display: none;\n",
              "    fill: var(--fill-color);\n",
              "    height: 32px;\n",
              "    padding: 0;\n",
              "    width: 32px;\n",
              "  }\n",
              "\n",
              "  .colab-df-quickchart:hover {\n",
              "    background-color: var(--hover-bg-color);\n",
              "    box-shadow: 0 1px 2px rgba(60, 64, 67, 0.3), 0 1px 3px 1px rgba(60, 64, 67, 0.15);\n",
              "    fill: var(--button-hover-fill-color);\n",
              "  }\n",
              "\n",
              "  .colab-df-quickchart-complete:disabled,\n",
              "  .colab-df-quickchart-complete:disabled:hover {\n",
              "    background-color: var(--disabled-bg-color);\n",
              "    fill: var(--disabled-fill-color);\n",
              "    box-shadow: none;\n",
              "  }\n",
              "\n",
              "  .colab-df-spinner {\n",
              "    border: 2px solid var(--fill-color);\n",
              "    border-color: transparent;\n",
              "    border-bottom-color: var(--fill-color);\n",
              "    animation:\n",
              "      spin 1s steps(1) infinite;\n",
              "  }\n",
              "\n",
              "  @keyframes spin {\n",
              "    0% {\n",
              "      border-color: transparent;\n",
              "      border-bottom-color: var(--fill-color);\n",
              "      border-left-color: var(--fill-color);\n",
              "    }\n",
              "    20% {\n",
              "      border-color: transparent;\n",
              "      border-left-color: var(--fill-color);\n",
              "      border-top-color: var(--fill-color);\n",
              "    }\n",
              "    30% {\n",
              "      border-color: transparent;\n",
              "      border-left-color: var(--fill-color);\n",
              "      border-top-color: var(--fill-color);\n",
              "      border-right-color: var(--fill-color);\n",
              "    }\n",
              "    40% {\n",
              "      border-color: transparent;\n",
              "      border-right-color: var(--fill-color);\n",
              "      border-top-color: var(--fill-color);\n",
              "    }\n",
              "    60% {\n",
              "      border-color: transparent;\n",
              "      border-right-color: var(--fill-color);\n",
              "    }\n",
              "    80% {\n",
              "      border-color: transparent;\n",
              "      border-right-color: var(--fill-color);\n",
              "      border-bottom-color: var(--fill-color);\n",
              "    }\n",
              "    90% {\n",
              "      border-color: transparent;\n",
              "      border-bottom-color: var(--fill-color);\n",
              "    }\n",
              "  }\n",
              "</style>\n",
              "\n",
              "  <script>\n",
              "    async function quickchart(key) {\n",
              "      const quickchartButtonEl =\n",
              "        document.querySelector('#' + key + ' button');\n",
              "      quickchartButtonEl.disabled = true;  // To prevent multiple clicks.\n",
              "      quickchartButtonEl.classList.add('colab-df-spinner');\n",
              "      try {\n",
              "        const charts = await google.colab.kernel.invokeFunction(\n",
              "            'suggestCharts', [key], {});\n",
              "      } catch (error) {\n",
              "        console.error('Error during call to suggestCharts:', error);\n",
              "      }\n",
              "      quickchartButtonEl.classList.remove('colab-df-spinner');\n",
              "      quickchartButtonEl.classList.add('colab-df-quickchart-complete');\n",
              "    }\n",
              "    (() => {\n",
              "      let quickchartButtonEl =\n",
              "        document.querySelector('#df-c82edcc4-2e94-4067-908d-c2135618660d button');\n",
              "      quickchartButtonEl.style.display =\n",
              "        google.colab.kernel.accessAllowed ? 'block' : 'none';\n",
              "    })();\n",
              "  </script>\n",
              "</div>\n",
              "\n",
              "  <div id=\"id_ec33829a-7ade-4cdd-ad6a-853081d265fd\">\n",
              "    <style>\n",
              "      .colab-df-generate {\n",
              "        background-color: #E8F0FE;\n",
              "        border: none;\n",
              "        border-radius: 50%;\n",
              "        cursor: pointer;\n",
              "        display: none;\n",
              "        fill: #1967D2;\n",
              "        height: 32px;\n",
              "        padding: 0 0 0 0;\n",
              "        width: 32px;\n",
              "      }\n",
              "\n",
              "      .colab-df-generate:hover {\n",
              "        background-color: #E2EBFA;\n",
              "        box-shadow: 0px 1px 2px rgba(60, 64, 67, 0.3), 0px 1px 3px 1px rgba(60, 64, 67, 0.15);\n",
              "        fill: #174EA6;\n",
              "      }\n",
              "\n",
              "      [theme=dark] .colab-df-generate {\n",
              "        background-color: #3B4455;\n",
              "        fill: #D2E3FC;\n",
              "      }\n",
              "\n",
              "      [theme=dark] .colab-df-generate:hover {\n",
              "        background-color: #434B5C;\n",
              "        box-shadow: 0px 1px 3px 1px rgba(0, 0, 0, 0.15);\n",
              "        filter: drop-shadow(0px 1px 2px rgba(0, 0, 0, 0.3));\n",
              "        fill: #FFFFFF;\n",
              "      }\n",
              "    </style>\n",
              "    <button class=\"colab-df-generate\" onclick=\"generateWithVariable('df')\"\n",
              "            title=\"Generate code using this dataframe.\"\n",
              "            style=\"display:none;\">\n",
              "\n",
              "  <svg xmlns=\"http://www.w3.org/2000/svg\" height=\"24px\"viewBox=\"0 0 24 24\"\n",
              "       width=\"24px\">\n",
              "    <path d=\"M7,19H8.4L18.45,9,17,7.55,7,17.6ZM5,21V16.75L18.45,3.32a2,2,0,0,1,2.83,0l1.4,1.43a1.91,1.91,0,0,1,.58,1.4,1.91,1.91,0,0,1-.58,1.4L9.25,21ZM18.45,9,17,7.55Zm-12,3A5.31,5.31,0,0,0,4.9,8.1,5.31,5.31,0,0,0,1,6.5,5.31,5.31,0,0,0,4.9,4.9,5.31,5.31,0,0,0,6.5,1,5.31,5.31,0,0,0,8.1,4.9,5.31,5.31,0,0,0,12,6.5,5.46,5.46,0,0,0,6.5,12Z\"/>\n",
              "  </svg>\n",
              "    </button>\n",
              "    <script>\n",
              "      (() => {\n",
              "      const buttonEl =\n",
              "        document.querySelector('#id_ec33829a-7ade-4cdd-ad6a-853081d265fd button.colab-df-generate');\n",
              "      buttonEl.style.display =\n",
              "        google.colab.kernel.accessAllowed ? 'block' : 'none';\n",
              "\n",
              "      buttonEl.onclick = () => {\n",
              "        google.colab.notebook.generateWithVariable('df');\n",
              "      }\n",
              "      })();\n",
              "    </script>\n",
              "  </div>\n",
              "\n",
              "    </div>\n",
              "  </div>\n"
            ],
            "application/vnd.google.colaboratory.intrinsic+json": {
              "type": "dataframe",
              "variable_name": "df"
            }
          },
          "metadata": {},
          "execution_count": 4
        }
      ]
    },
    {
      "cell_type": "markdown",
      "source": [
        "# **3. Data preprocessing and Train test split**"
      ],
      "metadata": {
        "id": "iR8ehb2oZoPp"
      }
    },
    {
      "cell_type": "code",
      "source": [
        "from sklearn.model_selection import train_test_split\n",
        "\n",
        "X, y = df.to_numpy()[:,:-1], df.to_numpy()[:,-1]\n",
        "X_train, X_test, y_train, y_test = train_test_split(X, y, test_size=0.20, random_state=42)"
      ],
      "metadata": {
        "id": "y1xVLP6Krbvh"
      },
      "execution_count": null,
      "outputs": []
    },
    {
      "cell_type": "code",
      "source": [
        "print(X_train.shape)\n",
        "print(X_test.shape)"
      ],
      "metadata": {
        "colab": {
          "base_uri": "https://localhost:8080/"
        },
        "id": "dmyzDfLKyGdw",
        "outputId": "5e8a72f1-805e-45b6-b236-4898e534d718"
      },
      "execution_count": null,
      "outputs": [
        {
          "output_type": "stream",
          "name": "stdout",
          "text": [
            "(90001, 271)\n",
            "(22501, 271)\n"
          ]
        }
      ]
    },
    {
      "cell_type": "code",
      "source": [
        "import numpy as np\n",
        "import pandas as pd\n",
        "unique_train, counts_train = np.unique(y_train, return_counts=True)\n",
        "print(\"X_train class distribution:\")\n",
        "for i in range(len(unique_train)):\n",
        "    print(f\"Class {unique_train[i]}: {counts_train[i]} samples ({(counts_train[i]/len(y_train))*100:.2f}%)\")\n",
        "\n",
        "unique_test, counts_test = np.unique(y_test, return_counts=True)\n",
        "print(\"\\nX_test class distribution:\")\n",
        "for i in range(len(unique_test)):\n",
        "    print(f\"Class {unique_test[i]}: {counts_test[i]} samples ({(counts_test[i]/len(y_test))*100:.2f}%)\")\n"
      ],
      "metadata": {
        "colab": {
          "base_uri": "https://localhost:8080/"
        },
        "id": "ujK1Mp4L7D0U",
        "outputId": "36ddd431-5a77-40ad-9ecb-a99970665d3d"
      },
      "execution_count": null,
      "outputs": [
        {
          "output_type": "stream",
          "name": "stdout",
          "text": [
            "X_train class distribution:\n",
            "Class 0.0: 72400 samples (80.44%)\n",
            "Class 1.0: 2251 samples (2.50%)\n",
            "Class 2.0: 5787 samples (6.43%)\n",
            "Class 3.0: 623 samples (0.69%)\n",
            "Class 4.0: 8940 samples (9.93%)\n",
            "\n",
            "X_test class distribution:\n",
            "Class 0.0: 18149 samples (80.66%)\n",
            "Class 1.0: 528 samples (2.35%)\n",
            "Class 2.0: 1447 samples (6.43%)\n",
            "Class 3.0: 179 samples (0.80%)\n",
            "Class 4.0: 2198 samples (9.77%)\n"
          ]
        }
      ]
    },
    {
      "cell_type": "code",
      "source": [
        "class MLDataset(Dataset):\n",
        "    def __init__(self, is_train=True):\n",
        "      if is_train:\n",
        "        self.data = X_train\n",
        "        self.label = y_train\n",
        "      else:\n",
        "        self.data = X_test\n",
        "        self.label = y_test\n",
        "\n",
        "      ### Wavelet transform\n",
        "      self.wavelet = \"cmor2.5-1.5\"\n",
        "      self.fs = 360  # Sampling frequency from the database\n",
        "\n",
        "      self.downsampling_data = [sample[::6] for sample in self.data] # Downsampling to 6 times to speed up processing\n",
        "      self.widths = np.arange(1, self.fs/6+1)[::-1]  # Width for the wavelet transform\n",
        "      self.wavelet_data = [np.abs(pywt.cwt(sample, self.widths, self.wavelet)[0]) for sample in self.downsampling_data]\n",
        "\n",
        "      ### Markov Transition field\n",
        "      self.mtf = MarkovTransitionField(n_bins=10)  # Use 10 different states (bins) to for markov transtion counting\n",
        "      self.markov_data = [self.mtf.fit_transform(sample.reshape(1, -1))[0] for sample in self.downsampling_data]\n",
        "\n",
        "    def __getitem__(self, index):\n",
        "      ### Time data\n",
        "      time_record_tensor = torch.from_numpy(self.data[index]).float()\n",
        "\n",
        "      ### Wavelet\n",
        "      # Expand dims 0 to consider it as a gray image\n",
        "      wavelet_tensor = torch.from_numpy(np.expand_dims(self.wavelet_data[index], axis=0)).float()\n",
        "\n",
        "      ### Markov Transition field\n",
        "      # Expand dims 0 to consider it as a gray image\n",
        "      markov_tensor = torch.from_numpy(np.expand_dims(self.markov_data[index], axis=0)).float()\n",
        "\n",
        "      ### Label processing\n",
        "      # One hot encoding for label\n",
        "      label_tensor = torch.zeros(5).float() # Initialize a tensor of zeros with length 5 (num_classes=5)\n",
        "      label_tensor[int(self.label[index])] = 1.0 # Set the element at the index of self.label[index] to 1\n",
        "\n",
        "      return time_record_tensor, wavelet_tensor, markov_tensor, label_tensor\n",
        "\n",
        "\n",
        "    def __len__(self):\n",
        "      return len(self.data)"
      ],
      "metadata": {
        "id": "yMHJzICXsdkm"
      },
      "execution_count": null,
      "outputs": []
    },
    {
      "cell_type": "code",
      "source": [
        "train_set = MLDataset(is_train=True)\n",
        "\n",
        "BATCH_SIZE = 256\n",
        "train_dataloader = DataLoader(train_set, batch_size=BATCH_SIZE)"
      ],
      "metadata": {
        "id": "8I8vudUDtQRO"
      },
      "execution_count": null,
      "outputs": []
    },
    {
      "cell_type": "code",
      "source": [
        "# Only run this once when finish training\n",
        "test_set = MLDataset(is_train=False)\n",
        "\n",
        "BATCH_SIZE = 256\n",
        "test_dataloader = DataLoader(test_set, batch_size=BATCH_SIZE)"
      ],
      "metadata": {
        "id": "ypzW72Pef6BU",
        "colab": {
          "base_uri": "https://localhost:8080/"
        },
        "outputId": "f8eacdb7-be7b-4d4c-ec41-543265f95e52"
      },
      "execution_count": null,
      "outputs": [
        {
          "output_type": "stream",
          "name": "stderr",
          "text": [
            "/usr/local/lib/python3.11/dist-packages/pyts/preprocessing/discretizer.py:168: UserWarning: Some quantiles are equal. The number of bins will be smaller for sample [0]. Consider decreasing the number of bins or removing these samples.\n",
            "  warn(\"Some quantiles are equal. The number of bins will \"\n",
            "/usr/local/lib/python3.11/dist-packages/pyts/preprocessing/discretizer.py:168: UserWarning: Some quantiles are equal. The number of bins will be smaller for sample [0]. Consider decreasing the number of bins or removing these samples.\n",
            "  warn(\"Some quantiles are equal. The number of bins will \"\n"
          ]
        }
      ]
    },
    {
      "cell_type": "code",
      "source": [
        "# Remove from RAM and GPU memory\n",
        "# del train_set, train_dataloader\n",
        "# del test_set, test_dataloader"
      ],
      "metadata": {
        "id": "f670SLW4wmER"
      },
      "execution_count": null,
      "outputs": []
    },
    {
      "cell_type": "code",
      "source": [
        "import matplotlib.pyplot as plt\n",
        "\n",
        "for batch_time_record_tensor, batch_wavelet_tensor, batch_markov_tensor, batch_label_tensor in train_dataloader:\n",
        "    index = np.random.randint(1, 64)\n",
        "\n",
        "    print(batch_label_tensor[index])\n",
        "    plt.plot(batch_time_record_tensor[index][::6])\n",
        "    plt.title(\"Resampled QRS complex segment\")\n",
        "    plt.xlabel(\"Sample\")\n",
        "    plt.ylabel(\"Magnitude\")\n",
        "    plt.show()\n",
        "\n",
        "    plt.imshow(batch_wavelet_tensor[index][0,:,:])\n",
        "    plt.title(\"Random sample\")\n",
        "    plt.xlabel(\"Shifting\")\n",
        "    plt.ylabel(\"Scaling\")\n",
        "    plt.show()\n",
        "\n",
        "    plt.imshow(batch_markov_tensor[index][0,:,:])\n",
        "    plt.title(\"MTF of the segment\")\n",
        "    plt.show()\n",
        "    break"
      ],
      "metadata": {
        "colab": {
          "base_uri": "https://localhost:8080/",
          "height": 1000
        },
        "id": "wHRIP7lLtW-M",
        "outputId": "81638cc7-0db0-47a5-e908-7b4e9cf6ebe2"
      },
      "execution_count": null,
      "outputs": [
        {
          "output_type": "stream",
          "name": "stdout",
          "text": [
            "tensor([1., 0., 0., 0., 0.])\n"
          ]
        },
        {
          "output_type": "display_data",
          "data": {
            "text/plain": [
              "<Figure size 640x480 with 1 Axes>"
            ],
            "image/png": "[encoded data removed]"
          },
          "metadata": {}
        },
        {
          "output_type": "display_data",
          "data": {
            "text/plain": [
              "<Figure size 640x480 with 1 Axes>"
            ],
            "image/png": "[encoded data removed]"
          },
          "metadata": {}
        },
        {
          "output_type": "display_data",
          "data": {
            "text/plain": [
              "<Figure size 640x480 with 1 Axes>"
            ],
            "image/png": "[encoded data removed]"
          },
          "metadata": {}
        }
      ]
    },
    {
      "cell_type": "code",
      "source": [
        "# Dimension check, batch_size = 64, data_length = 271, downsampling_data_length = 91\n",
        "for batch_time_record_tensor, batch_wavelet_tensor, batch_markov_tensor, batch_label_tensor in train_dataloader:\n",
        "    print(batch_time_record_tensor.shape)\n",
        "    print(batch_wavelet_tensor.shape)\n",
        "    print(batch_markov_tensor.shape)\n",
        "    print(batch_label_tensor.shape)\n",
        "    break"
      ],
      "metadata": {
        "colab": {
          "base_uri": "https://localhost:8080/"
        },
        "id": "TzOgHNAKOeQG",
        "outputId": "0c4f77a1-b32f-4af4-fd6f-733377faebd0"
      },
      "execution_count": null,
      "outputs": [
        {
          "output_type": "stream",
          "name": "stdout",
          "text": [
            "torch.Size([256, 271])\n",
            "torch.Size([256, 1, 60, 46])\n",
            "torch.Size([256, 1, 46, 46])\n",
            "torch.Size([256, 5])\n"
          ]
        }
      ]
    },
    {
      "cell_type": "markdown",
      "source": [
        "# **4. Proposed Learning Model**"
      ],
      "metadata": {
        "id": "fr74EDIpZ-BI"
      }
    },
    {
      "cell_type": "code",
      "source": [
        "# Testing for gpu\n",
        "device = torch.device('cuda:0')"
      ],
      "metadata": {
        "id": "osdDcNmgvsTb"
      },
      "execution_count": null,
      "outputs": []
    },
    {
      "cell_type": "code",
      "source": [
        "def conv_block(num_filter):\n",
        "    dropout_rate = 0.1\n",
        "    return nn.Sequential(\n",
        "      nn.Conv2d(in_channels=num_filter, out_channels=num_filter, kernel_size=(1, 1), stride=1, padding=(0, 0)),\n",
        "      nn.BatchNorm2d(num_features=num_filter),\n",
        "      nn.Dropout(dropout_rate),\n",
        "      nn.ReLU(),\n",
        "      nn.Conv2d(in_channels=num_filter, out_channels=num_filter, kernel_size=(3, 3), stride=1, padding=(1, 1)),\n",
        "      nn.BatchNorm2d(num_features=num_filter),\n",
        "      nn.Dropout(dropout_rate),\n",
        "      nn.ReLU(),\n",
        "      nn.Conv2d(in_channels=num_filter, out_channels=num_filter*4, kernel_size=(1, 1), stride=1, padding=(0, 0)),\n",
        "      nn.BatchNorm2d(num_features=num_filter*4),\n",
        "      nn.Dropout(dropout_rate),\n",
        "      nn.ReLU(),\n",
        "    )\n",
        "\n",
        "class ProposedModel(nn.Module):\n",
        "  def __init__(self, num_classes):\n",
        "    super(ProposedModel, self).__init__()\n",
        "\n",
        "    \"\"\"\n",
        "    Time record flow\n",
        "    \"\"\"\n",
        "    self.fully_connected0 = nn.Sequential(\n",
        "      nn.Linear(in_features=271, out_features=4096),\n",
        "      nn.BatchNorm1d(num_features=4096),\n",
        "      nn.Dropout(0.1),\n",
        "      nn.ReLU(),\n",
        "      nn.Linear(in_features=4096, out_features=4096),\n",
        "      nn.BatchNorm1d(num_features=4096),\n",
        "      nn.Dropout(0.1),\n",
        "      nn.ReLU(),\n",
        "      nn.Linear(in_features=4096, out_features=num_classes),  # num_classes = 5\n",
        "      nn.BatchNorm1d(num_features=num_classes),\n",
        "      nn.Dropout(0.1),\n",
        "      nn.Softmax(dim=1),\n",
        "    )\n",
        "    \"\"\"\n",
        "    End of Time record flow\n",
        "    \"\"\"\n",
        "\n",
        "\n",
        "    \"\"\"\n",
        "    Wavelet transform flow\n",
        "    \"\"\"\n",
        "    self.block0 = nn.Sequential(\n",
        "      nn.Conv2d(in_channels=1, out_channels=64, kernel_size=(7, 7), stride=2, padding=(3, 3)),\n",
        "      nn.BatchNorm2d(num_features=64),\n",
        "      nn.MaxPool2d(kernel_size=(3, 3), stride=2, padding=(1, 1)),\n",
        "    )\n",
        "\n",
        "    self.block1_filter_size = 64\n",
        "    self.block1 = conv_block(num_filter=self.block1_filter_size)\n",
        "    self.block1_projection = nn.Conv2d(in_channels=self.block1_filter_size,\n",
        "                                       out_channels=self.block1_filter_size*4,\n",
        "                                       kernel_size=(1, 1), stride=1, padding=(0, 0))\n",
        "\n",
        "    self.block2_filter_size = 256\n",
        "    self.block2_downsampling = nn.Conv2d(in_channels=self.block2_filter_size,\n",
        "                                         out_channels=self.block2_filter_size,\n",
        "                                         kernel_size=(1, 1), stride=2, padding=(0, 0))\n",
        "    self.block2 = conv_block(num_filter=self.block2_filter_size)\n",
        "    self.block2_projection = nn.Conv2d(in_channels=self.block2_filter_size,\n",
        "                                       out_channels=self.block2_filter_size*4,\n",
        "                                       kernel_size=(1, 1), stride=2, padding=(0, 0))\n",
        "\n",
        "    self.fully_connected1 = nn.Sequential(\n",
        "      nn.Flatten(),\n",
        "      nn.Linear(in_features=1024*(8*6), out_features=4096),\n",
        "      nn.BatchNorm1d(num_features=4096),\n",
        "      nn.Dropout(0.1),\n",
        "      nn.ReLU(),\n",
        "      nn.Linear(in_features=4096, out_features=4096),\n",
        "      nn.BatchNorm1d(num_features=4096),\n",
        "      nn.Dropout(0.1),\n",
        "      nn.ReLU(),\n",
        "      nn.Linear(in_features=4096, out_features=num_classes),  # num_classes = 5\n",
        "      nn.BatchNorm1d(num_features=num_classes),\n",
        "      nn.Dropout(0.1),\n",
        "      nn.Softmax(dim=1),\n",
        "    )\n",
        "    \"\"\"\n",
        "    End of Wavelet transform flow\n",
        "    \"\"\"\n",
        "\n",
        "\n",
        "    \"\"\"\n",
        "    Markov Transition Field flow\n",
        "    \"\"\"\n",
        "    self.block3 = nn.Sequential(\n",
        "      nn.Conv2d(in_channels=1, out_channels=64, kernel_size=(7, 7), stride=2, padding=(3, 3)),\n",
        "      nn.BatchNorm2d(num_features=64),\n",
        "      nn.MaxPool2d(kernel_size=(3, 3), stride=2, padding=(1, 1)),\n",
        "    )\n",
        "\n",
        "    self.block4_filter_size = 64\n",
        "    self.block4 = conv_block(num_filter=self.block1_filter_size)\n",
        "    self.block4_projection = nn.Conv2d(in_channels=self.block1_filter_size,\n",
        "                                       out_channels=self.block1_filter_size*4,\n",
        "                                       kernel_size=(1, 1), stride=1, padding=(0, 0))\n",
        "\n",
        "    self.block5_filter_size = 256\n",
        "    self.block5_downsampling = nn.Conv2d(in_channels=self.block2_filter_size,\n",
        "                                         out_channels=self.block2_filter_size,\n",
        "                                         kernel_size=(1, 1), stride=2, padding=(0, 0))\n",
        "    self.block5 = conv_block(num_filter=self.block2_filter_size)\n",
        "    self.block5_projection = nn.Conv2d(in_channels=self.block2_filter_size,\n",
        "                                       out_channels=self.block2_filter_size*4,\n",
        "                                       kernel_size=(1, 1), stride=2, padding=(0, 0))\n",
        "\n",
        "    self.fully_connected2 = nn.Sequential(\n",
        "      nn.Flatten(),\n",
        "      nn.Linear(in_features=1024*(6*6), out_features=4096),\n",
        "      nn.BatchNorm1d(num_features=4096),\n",
        "      nn.Dropout(0.1),\n",
        "      nn.ReLU(),\n",
        "      nn.Linear(in_features=4096, out_features=4096),\n",
        "      nn.BatchNorm1d(num_features=4096),\n",
        "      nn.Dropout(0.1),\n",
        "      nn.ReLU(),\n",
        "      nn.Linear(in_features=4096, out_features=num_classes),  # num_classes = 5\n",
        "      nn.BatchNorm1d(num_features=num_classes),\n",
        "      nn.Dropout(0.1),\n",
        "      nn.Softmax(dim=1),\n",
        "    )\n",
        "    \"\"\"\n",
        "    End of Markov Transition Field flow\n",
        "    \"\"\"\n",
        "\n",
        "  def forward(self, time_record_tensor, wavelet_tensor, markov_tensor):\n",
        "    \"\"\"\n",
        "    Dimension reminder\n",
        "    [64, 271]: batch_time_record_tensor_shape\n",
        "    [64, 1, 120, 91]: batch_wavelet_tensor_shape\n",
        "    [64, 1, 91, 91]: batch_markov_tensor_shape\n",
        "    [64, 5]: batch_label_tensor_shape\n",
        "    \"\"\"\n",
        "\n",
        "    \"\"\"\n",
        "    Time record flow\n",
        "    \"\"\"\n",
        "    time_record_flow = self.fully_connected0(time_record_tensor)\n",
        "    \"\"\"\n",
        "    End of Time record flow\n",
        "    \"\"\"\n",
        "\n",
        "\n",
        "    \"\"\"\n",
        "    Wavelet flow\n",
        "    \"\"\"\n",
        "    wavelet_flow = self.block0(wavelet_tensor)\n",
        "\n",
        "    # Block 1\n",
        "    identity = wavelet_flow\n",
        "    wavelet_flow = self.block1(wavelet_flow)\n",
        "    wavelet_flow = wavelet_flow + self.block1_projection(identity)\n",
        "\n",
        "    # Block 2\n",
        "    identity = wavelet_flow\n",
        "    wavelet_flow = self.block2_downsampling(wavelet_flow)\n",
        "    wavelet_flow = self.block2(wavelet_flow)\n",
        "    wavelet_flow = wavelet_flow + self.block2_projection(identity)\n",
        "\n",
        "    wavelet_flow = self.fully_connected1(wavelet_flow)\n",
        "    \"\"\"\n",
        "    End of Wavelet flow\n",
        "    \"\"\"\n",
        "\n",
        "\n",
        "    \"\"\"\n",
        "    Markov Transition Field flow\n",
        "    \"\"\"\n",
        "    markov_flow = self.block3(markov_tensor)\n",
        "\n",
        "    # Block 4\n",
        "    identity = markov_flow\n",
        "    markov_flow = self.block4(markov_flow)\n",
        "    markov_flow = markov_flow + self.block4_projection(identity)\n",
        "\n",
        "    # Block 5\n",
        "    identity = markov_flow\n",
        "    markov_flow = self.block5_downsampling(markov_flow)\n",
        "    markov_flow = self.block5(markov_flow)\n",
        "    markov_flow = markov_flow + self.block5_projection(identity)\n",
        "\n",
        "    markov_flow = self.fully_connected2(markov_flow)\n",
        "    \"\"\"\n",
        "    End of Markov Transition Field flow\n",
        "    \"\"\"\n",
        "\n",
        "    \"\"\"\n",
        "    Merge flows\n",
        "    \"\"\"\n",
        "    final_result = time_record_flow + wavelet_flow + markov_flow\n",
        "\n",
        "    return final_result\n",
        "\n",
        "\n",
        "from torchsummary import summary\n",
        "\n",
        "try: # remove previous model when compiling failed\n",
        "  del model\n",
        "except:\n",
        "  pass\n",
        "model = ProposedModel(num_classes=5).to(device)\n",
        "# summary(model, input_size=[(271,), (1, 60, 46), (1, 46, 46)])   # dimension debug\n",
        "\n",
        "# Test for training model\n",
        "for epoch in range(1):\n",
        "  for idx, (time_record_tensor, wavelet_tensor, markov_tensor, label_tensor) in enumerate(train_dataloader):\n",
        "    # Forward\n",
        "    time_record_tensor = time_record_tensor.to(device)\n",
        "    wavelet_tensor = wavelet_tensor.to(device)\n",
        "    markov_tensor = markov_tensor.to(device)\n",
        "    label_predict = model(time_record_tensor, wavelet_tensor, markov_tensor)\n",
        "    label_tensor = label_tensor.type(torch.LongTensor).to(device)\n",
        "\n",
        "    break"
      ],
      "metadata": {
        "id": "TSilbjKhurOM"
      },
      "execution_count": null,
      "outputs": []
    },
    {
      "cell_type": "markdown",
      "source": [
        "# **5. Loss function, Optimization Method and Model Training**"
      ],
      "metadata": {
        "id": "mdbdFP-2fFxU"
      }
    },
    {
      "cell_type": "code",
      "source": [
        "### Loss function and Optimization method\n",
        "from torch import optim\n",
        "\n",
        "# Loss function\n",
        "loss_function = nn.CrossEntropyLoss()\n",
        "\n",
        "# Optimization method\n",
        "learning_rate = 1e-3\n",
        "weight_decay = 1e-4  # L2 Regularization\n",
        "optimizer = optim.Adam(\n",
        "    params=model.parameters(),\n",
        "    lr=learning_rate,\n",
        "    weight_decay=weight_decay,\n",
        ")"
      ],
      "metadata": {
        "id": "yX5ShZZWvz6V"
      },
      "execution_count": null,
      "outputs": []
    },
    {
      "cell_type": "code",
      "source": [
        "### Training model\n",
        "num_epochs = 20\n",
        "epochs_loss = dict()\n",
        "\n",
        "for epoch in range(num_epochs):\n",
        "  for idx, (time_record_tensor, wavelet_tensor, markov_tensor, label_tensor) in enumerate(train_dataloader):\n",
        "    # Forward\n",
        "    time_record_tensor = time_record_tensor.to(device)\n",
        "    wavelet_tensor = wavelet_tensor.to(device)\n",
        "    markov_tensor = markov_tensor.to(device)\n",
        "    label_predict = model(time_record_tensor, wavelet_tensor, markov_tensor)\n",
        "    label_tensor = label_tensor.to(device)\n",
        "\n",
        "    forward_loss = loss_function(label_predict, label_tensor)\n",
        "\n",
        "    # Backward\n",
        "    optimizer.zero_grad()\n",
        "    forward_loss.backward()\n",
        "    optimizer.step()\n",
        "\n",
        "  epochs_loss[epoch+1] = forward_loss.item()\n",
        "  print(f\"epoch: {epoch+1}, loss = {forward_loss.item():.4f}\")"
      ],
      "metadata": {
        "id": "LD29JQdRv3TN",
        "colab": {
          "base_uri": "https://localhost:8080/"
        },
        "outputId": "252128ec-cf78-4f93-9384-d3352035303f"
      },
      "execution_count": null,
      "outputs": [
        {
          "output_type": "stream",
          "name": "stdout",
          "text": [
            "epoch: 1, loss = 0.6856\n",
            "epoch: 2, loss = 0.5007\n",
            "epoch: 3, loss = 0.4222\n",
            "epoch: 4, loss = 0.3739\n",
            "epoch: 5, loss = 0.3794\n",
            "epoch: 6, loss = 0.3310\n",
            "epoch: 7, loss = 0.3032\n",
            "epoch: 8, loss = 0.3067\n",
            "epoch: 9, loss = 0.2834\n",
            "epoch: 10, loss = 0.2864\n",
            "epoch: 11, loss = 0.2612\n",
            "epoch: 12, loss = 0.2519\n",
            "epoch: 13, loss = 0.2583\n",
            "epoch: 14, loss = 0.2292\n",
            "epoch: 15, loss = 0.2513\n",
            "epoch: 16, loss = 0.2561\n",
            "epoch: 17, loss = 0.2487\n",
            "epoch: 18, loss = 0.2604\n",
            "epoch: 19, loss = 0.2453\n",
            "epoch: 20, loss = 0.2369\n"
          ]
        }
      ]
    },
    {
      "cell_type": "code",
      "source": [
        "### Further Training model\n",
        "num_epochs = 5\n",
        "epochs_loss = dict()\n",
        "\n",
        "for epoch in range(num_epochs):\n",
        "  for idx, (time_record_tensor, wavelet_tensor, markov_tensor, label_tensor) in enumerate(train_dataloader):\n",
        "    # Forward\n",
        "    time_record_tensor = time_record_tensor.to(device)\n",
        "    wavelet_tensor = wavelet_tensor.to(device)\n",
        "    markov_tensor = markov_tensor.to(device)\n",
        "    label_predict = model(time_record_tensor, wavelet_tensor, markov_tensor)\n",
        "    label_tensor = label_tensor.to(device)\n",
        "\n",
        "    forward_loss = loss_function(label_predict, label_tensor)\n",
        "\n",
        "    # Backward\n",
        "    optimizer.zero_grad()\n",
        "    forward_loss.backward()\n",
        "    optimizer.step()\n",
        "\n",
        "  epochs_loss[epoch+1] = forward_loss.item()\n",
        "  print(f\"epoch: {epoch+1}, loss = {forward_loss.item():.4f}\")"
      ],
      "metadata": {
        "colab": {
          "base_uri": "https://localhost:8080/"
        },
        "id": "py0mebEqreRH",
        "outputId": "6dcb5915-fcff-4a3c-9739-e84e7a344c16"
      },
      "execution_count": null,
      "outputs": [
        {
          "output_type": "stream",
          "name": "stdout",
          "text": [
            "epoch: 1, loss = 0.2335\n",
            "epoch: 2, loss = 0.2383\n",
            "epoch: 3, loss = 0.2244\n",
            "epoch: 4, loss = 0.2290\n",
            "epoch: 5, loss = 0.2232\n"
          ]
        }
      ]
    },
    {
      "cell_type": "code",
      "source": [
        "### Further Training model\n",
        "num_epochs = 5\n",
        "epochs_loss = dict()\n",
        "\n",
        "for epoch in range(num_epochs):\n",
        "  for idx, (time_record_tensor, wavelet_tensor, markov_tensor, label_tensor) in enumerate(train_dataloader):\n",
        "    # Forward\n",
        "    time_record_tensor = time_record_tensor.to(device)\n",
        "    wavelet_tensor = wavelet_tensor.to(device)\n",
        "    markov_tensor = markov_tensor.to(device)\n",
        "    label_predict = model(time_record_tensor, wavelet_tensor, markov_tensor)\n",
        "    label_tensor = label_tensor.to(device)\n",
        "\n",
        "    forward_loss = loss_function(label_predict, label_tensor)\n",
        "\n",
        "    # Backward\n",
        "    optimizer.zero_grad()\n",
        "    forward_loss.backward()\n",
        "    optimizer.step()\n",
        "\n",
        "  epochs_loss[epoch+1] = forward_loss.item()\n",
        "  print(f\"epoch: {epoch+1}, loss = {forward_loss.item():.4f}\")"
      ],
      "metadata": {
        "colab": {
          "base_uri": "https://localhost:8080/"
        },
        "id": "sy6y3o_du9AZ",
        "outputId": "d18832ca-61f2-4172-af93-a5063bc8bd4b"
      },
      "execution_count": null,
      "outputs": [
        {
          "output_type": "stream",
          "name": "stdout",
          "text": [
            "epoch: 1, loss = 0.2224\n",
            "epoch: 2, loss = 0.2249\n",
            "epoch: 3, loss = 0.2390\n",
            "epoch: 4, loss = 0.2288\n",
            "epoch: 5, loss = 0.2305\n"
          ]
        }
      ]
    },
    {
      "cell_type": "code",
      "source": [
        "### Further Training model\n",
        "num_epochs = 10\n",
        "epochs_loss = dict()\n",
        "\n",
        "for epoch in range(num_epochs):\n",
        "  for idx, (time_record_tensor, wavelet_tensor, markov_tensor, label_tensor) in enumerate(train_dataloader):\n",
        "    # Forward\n",
        "    time_record_tensor = time_record_tensor.to(device)\n",
        "    wavelet_tensor = wavelet_tensor.to(device)\n",
        "    markov_tensor = markov_tensor.to(device)\n",
        "    label_predict = model(time_record_tensor, wavelet_tensor, markov_tensor)\n",
        "    label_tensor = label_tensor.to(device)\n",
        "\n",
        "    forward_loss = loss_function(label_predict, label_tensor)\n",
        "\n",
        "    # Backward\n",
        "    optimizer.zero_grad()\n",
        "    forward_loss.backward()\n",
        "    optimizer.step()\n",
        "\n",
        "  epochs_loss[epoch+1] = forward_loss.item()\n",
        "  print(f\"epoch: {epoch+1}, loss = {forward_loss.item():.4f}\")"
      ],
      "metadata": {
        "colab": {
          "base_uri": "https://localhost:8080/"
        },
        "id": "NXNJtE5tyU8a",
        "outputId": "567bf25c-073f-4851-ff22-ae19594eb5d1"
      },
      "execution_count": null,
      "outputs": [
        {
          "output_type": "stream",
          "name": "stdout",
          "text": [
            "epoch: 1, loss = 0.2420\n",
            "epoch: 2, loss = 0.2287\n",
            "epoch: 3, loss = 0.2353\n",
            "epoch: 4, loss = 0.2222\n",
            "epoch: 5, loss = 0.2317\n",
            "epoch: 6, loss = 0.2254\n",
            "epoch: 7, loss = 0.2338\n",
            "epoch: 8, loss = 0.2334\n",
            "epoch: 9, loss = 0.2195\n",
            "epoch: 10, loss = 0.2379\n"
          ]
        }
      ]
    },
    {
      "cell_type": "markdown",
      "source": [
        "# **6. Model Evaluation**"
      ],
      "metadata": {
        "id": "JUWYmsoffMY1"
      }
    },
    {
      "cell_type": "code",
      "source": [
        "# Model inference and display Confusion Matrix\n",
        "predicts = []\n",
        "\n",
        "for time_record_tensor, wavelet_tensor, markov_tensor, label_tensor in test_dataloader:\n",
        "    time_record_tensor = time_record_tensor.cuda()\n",
        "    wavelet_tensor = wavelet_tensor.cuda()\n",
        "    label_tensor = label_tensor.cuda()\n",
        "    markov_tensor = markov_tensor.cuda()\n",
        "\n",
        "    label_predict = model(time_record_tensor, wavelet_tensor, markov_tensor).cuda()\n",
        "    predicts.extend(np.argmax(label_predict.cpu().detach().numpy(), axis=1))\n",
        "\n",
        "\n",
        "\n",
        "from sklearn.metrics import confusion_matrix, ConfusionMatrixDisplay\n",
        "\n",
        "labels_names = [\"N\", \"S\", \"V\", \"F\", \"Q\"]\n",
        "cm = confusion_matrix(y_test, predicts, normalize='true')\n",
        "ConfusionMatrixDisplay(cm).plot()"
      ],
      "metadata": {
        "colab": {
          "base_uri": "https://localhost:8080/",
          "height": 467
        },
        "id": "T9cnzCPb4zt8",
        "outputId": "36495ac0-1bf0-4ad9-f0ab-0b52c5b2b6b4"
      },
      "execution_count": null,
      "outputs": [
        {
          "output_type": "execute_result",
          "data": {
            "text/plain": [
              "<sklearn.metrics._plot.confusion_matrix.ConfusionMatrixDisplay at 0x7bf213a29850>"
            ]
          },
          "metadata": {},
          "execution_count": 57
        },
        {
          "output_type": "display_data",
          "data": {
            "text/plain": [
              "<Figure size 640x480 with 2 Axes>"
            ],
            "image/png": "[encoded data removed]"
          },
          "metadata": {}
        }
      ]
    },
    {
      "cell_type": "code",
      "source": [
        "cm = confusion_matrix(y_test, predicts)\n",
        "ConfusionMatrixDisplay(cm).plot()"
      ],
      "metadata": {
        "colab": {
          "base_uri": "https://localhost:8080/",
          "height": 467
        },
        "id": "KsSWcDerWpxT",
        "outputId": "5a67784b-817c-45c8-896c-9f084e999140"
      },
      "execution_count": null,
      "outputs": [
        {
          "output_type": "execute_result",
          "data": {
            "text/plain": [
              "<sklearn.metrics._plot.confusion_matrix.ConfusionMatrixDisplay at 0x7bf213b77b50>"
            ]
          },
          "metadata": {},
          "execution_count": 59
        },
        {
          "output_type": "display_data",
          "data": {
            "text/plain": [
              "<Figure size 640x480 with 2 Axes>"
            ],
            "image/png": "[encoded data removed]"
          },
          "metadata": {}
        }
      ]
    },
    {
      "cell_type": "code",
      "source": [
        "# Get Accuracy, macro Precision, macro Recall, macro F1 from confusion matrix\n",
        "def get_metrics_from_cm(confusion_matrix, num_classes):\n",
        "  precisions = []\n",
        "  recalls = []\n",
        "  for i in range(num_classes):\n",
        "    TP = confusion_matrix[i, i]\n",
        "    FP = np.sum(confusion_matrix[:, i]) - TP  # Sum of column i minus the diagonal element\n",
        "    FN = np.sum(confusion_matrix[i, :]) - TP  # Sum of row i minus the diagonal element\n",
        "\n",
        "    # Calculate precision and recall for class i\n",
        "    precision_i = TP / (TP + FP) if (TP + FP) != 0 else 0  # Avoid division by zero\n",
        "    recall_i = TP / (TP + FN) if (TP + FN) != 0 else 0  # Avoid division by zero\n",
        "    precisions.append(precision_i)\n",
        "    recalls.append(recall_i)\n",
        "\n",
        "  # Calculate accuracy, macro-average precision, recall and f1\n",
        "  accuracy = np.trace(confusion_matrix) / np.sum(confusion_matrix)\n",
        "  macro_precision = np.mean(precisions)\n",
        "  macro_recall = np.mean(recalls)\n",
        "  macro_f1 = 2 * (macro_precision * macro_recall) / (macro_precision + macro_recall)\n",
        "\n",
        "  return accuracy, macro_precision, macro_recall, macro_f1\n",
        "\n",
        "\n",
        "num_classes = 5\n",
        "cm = confusion_matrix(y_test, predicts)\n",
        "result = get_metrics_from_cm(cm, num_classes)\n",
        "print(f\"Accuracy:          {np.round(result[0]*100, 2)}%\")\n",
        "print(f\"Macro precision:   {np.round(result[1]*100, 2)}%\")\n",
        "print(f\"Macro recall:      {np.round(result[2]*100, 2)}%\")\n",
        "print(f\"Macro f1:          {np.round(result[3]*100, 2)}%\")\n",
        "print(f\"Macro sensitivity: {np.round(result[1]*100, 2)}%\")"
      ],
      "metadata": {
        "colab": {
          "base_uri": "https://localhost:8080/"
        },
        "id": "DwHHcSukqIuP",
        "outputId": "613f0815-b067-43f8-e8fd-a188664e5fad"
      },
      "execution_count": null,
      "outputs": [
        {
          "output_type": "stream",
          "name": "stdout",
          "text": [
            "Accuracy:          98.4%\n",
            "Macro precision:   96.1%\n",
            "Macro recall:      88.21%\n",
            "Macro f1:          91.98%\n",
            "Macro sensitivity: 88.21%\n"
          ]
        }
      ]
    },
    {
      "cell_type": "code",
      "source": [
        "# Get Accuracy, weighted Precision, weighted Recall, weighted F1 from confusion matrix\n",
        "def get_weighted_metrics_from_cm(confusion_matrix, num_classes):\n",
        "    precisions = []\n",
        "    recalls = []\n",
        "    f1_scores = []\n",
        "    class_support = []\n",
        "\n",
        "    for i in range(num_classes):\n",
        "        TP = confusion_matrix[i, i]\n",
        "        FP = np.sum(confusion_matrix[:, i]) - TP  # Sum of column i minus the diagonal element\n",
        "        FN = np.sum(confusion_matrix[i, :]) - TP  # Sum of row i minus the diagonal element\n",
        "        support_i = np.sum(confusion_matrix[i, :])  # Number of true instances of class i\n",
        "\n",
        "        # Calculate precision, recall and sensitivity for class i\n",
        "        precision_i = TP / (TP + FP) if (TP + FP) != 0 else 0  # Avoid division by zero\n",
        "        recall_i = TP / (TP + FN) if (TP + FN) != 0 else 0  # Avoid division by zero\n",
        "\n",
        "        # Calculate F1 score for class i\n",
        "        f1_i = 2 * (precision_i * recall_i) / (precision_i + recall_i) if (precision_i + recall_i) != 0 else 0\n",
        "\n",
        "        # Append to lists\n",
        "        precisions.append(precision_i)\n",
        "        recalls.append(recall_i)\n",
        "        f1_scores.append(f1_i)\n",
        "        class_support.append(support_i)\n",
        "\n",
        "    # Total number of samples\n",
        "    total_samples = np.sum(confusion_matrix)\n",
        "\n",
        "    # Calculate weighted metrics\n",
        "    accuracy = np.trace(confusion_matrix) / np.sum(confusion_matrix)\n",
        "    weighted_precision = np.sum(np.array(precisions) * np.array(class_support)) / total_samples\n",
        "    weighted_recall = np.sum(np.array(recalls) * np.array(class_support)) / total_samples\n",
        "    weighted_f1 = np.sum(np.array(f1_scores) * np.array(class_support)) / total_samples\n",
        "\n",
        "    return accuracy, weighted_precision, weighted_recall, weighted_f1\n",
        "\n",
        "\n",
        "\n",
        "num_classes = 5\n",
        "cm = confusion_matrix(y_test, predicts)\n",
        "result = get_weighted_metrics_from_cm(cm, num_classes)\n",
        "print(f\"Accuracy:             {np.round(result[0]*100, 2)}%\")\n",
        "print(f\"Weighted precision:   {np.round(result[1]*100, 2)}%\")\n",
        "print(f\"Weighted recall:      {np.round(result[2]*100, 2)}%\")\n",
        "print(f\"Weighted f1:          {np.round(result[3]*100, 2)}%\")\n",
        "print(f\"Weighted sensitivity: {np.round(result[1]*100, 2)}%\")"
      ],
      "metadata": {
        "colab": {
          "base_uri": "https://localhost:8080/"
        },
        "id": "xQyQsGyXV_6m",
        "outputId": "7535e8f9-db7e-4d9d-ae22-b901febda0c9"
      },
      "execution_count": null,
      "outputs": [
        {
          "output_type": "stream",
          "name": "stdout",
          "text": [
            "Accuracy:             98.4%\n",
            "Weighted precision:   98.37%\n",
            "Weighted recall:      98.4%\n",
            "Weighted f1:          98.35%\n",
            "Weighted sensitivity: 98.4%\n"
          ]
        }
      ]
    },
    {
      "cell_type": "markdown",
      "source": [
        "# **7. Saving Model**"
      ],
      "metadata": {
        "id": "Gz0TDKMh_Evj"
      }
    },
    {
      "cell_type": "code",
      "source": [
        "torch.save(model.state_dict(), \"ecg_heartbeat_classfication_model\")"
      ],
      "metadata": {
        "id": "3Bq6sS3dOVA8"
      },
      "execution_count": null,
      "outputs": []
    },
    {
      "cell_type": "code",
      "source": [
        "torch.save({\n",
        "            'epoch': epoch,\n",
        "            'model_state_dict': model.state_dict(),\n",
        "            'optimizer_state_dict': optimizer.state_dict(),\n",
        "            'loss': loss_function,\n",
        "            }, \"complete_ecg_heartbeat_classfication_model\")"
      ],
      "metadata": {
        "id": "XwKE-0gUR4Jq"
      },
      "execution_count": null,
      "outputs": []
    }
  ]
}